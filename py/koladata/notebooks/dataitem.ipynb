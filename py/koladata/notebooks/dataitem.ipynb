{
  "cells": [
    {
      "cell_type": "markdown",
      "metadata": {
        "id": "tfgqS3qHgrgc"
      },
      "source": [
        "# Overview"
      ]
    },
    {
      "cell_type": "markdown",
      "metadata": {
        "id": "WyNc4YtNbUD-"
      },
      "source": [
        "In this tutorial, we cover basic data structures and data types in Koda and show conversions from/to corresponding Python primitives/objects.\n",
        "\n",
        "Koda provides convenient APIs to create and work with Koda primitives, Lists, Dicts and Objects as an alternative to Python primitives, lists, dicts and objects of dataclasses. It allows easy conversion between Koda primitives/items and Python primitives/objects. Koda primitives/lists/dicts/objects are represented by an unified interface **DataItem**."
      ]
    },
    {
      "cell_type": "code",
      "execution_count": 2,
      "metadata": {
        "executionInfo": {
          "elapsed": 265,
          "status": "ok",
          "timestamp": 1725348512005,
          "user": {
            "displayName": "",
            "userId": ""
          },
          "user_tz": -120
        },
        "id": "yaYK4EtzeBqZ"
      },
      "outputs": [],
      "source": [
        "from koladata import kd"
      ]
    },
    {
      "cell_type": "markdown",
      "metadata": {
        "id": "ulwlsVqJbu69"
      },
      "source": [
        "# Data Types"
      ]
    },
    {
      "cell_type": "markdown",
      "metadata": {
        "id": "lxT4FjGyb8wr"
      },
      "source": [
        "The most basic data structure in Koda is **Koda Item** which represents a single item. An item can be primitive or non-primitive. The Python class for Koda Item is **DataItem**."
      ]
    },
    {
      "cell_type": "markdown",
      "metadata": {
        "id": "CqzL_KQ_ciGi"
      },
      "source": [
        "## Primitive Types"
      ]
    },
    {
      "cell_type": "markdown",
      "metadata": {
        "id": "7neQaOPpckfw"
      },
      "source": [
        "In Koda, there are 8 primitive types which are also referred to as **dtypes**.\n",
        "\n",
        "-   `INT32`\n",
        "-   `INT64`\n",
        "-   `FLOAT32`\n",
        "-   `FLOAT64`\n",
        "-   `TEXT`\n",
        "-   `BYTES`\n",
        "-   `BOOLEAN`: can have three states: `True`, `False` and `None`\n",
        "-   `MASK`: represents **presence** and can have two states: `present` and\n",
        "    `missing`"
      ]
    },
    {
      "cell_type": "markdown",
      "metadata": {
        "id": "_Di-aPSVdDru"
      },
      "source": [
        "To create a primitive DataItem, we use `kd.item(py_primitive)` except for `MASK` dtype which does not have native representation in Python. For example,"
      ]
    },
    {
      "cell_type": "code",
      "execution_count": null,
      "metadata": {
        "executionInfo": {
          "elapsed": 5,
          "status": "ok",
          "timestamp": 1725288497437,
          "user": {
            "displayName": "",
            "userId": ""
          },
          "user_tz": -120
        },
        "id": "dDYzhCwYbHT9",
        "outputId": "13a9accc-86c7-4188-aef9-1db9e18e685a"
      },
      "outputs": [
        {
          "data": {
            "text/plain": [
              "DataItem(1, schema: INT32)"
            ]
          },
          "execution_count": 2,
          "metadata": {},
          "output_type": "execute_result"
        }
      ],
      "source": [
        "kd.item(1)"
      ]
    },
    {
      "cell_type": "code",
      "execution_count": null,
      "metadata": {
        "executionInfo": {
          "elapsed": 17,
          "status": "ok",
          "timestamp": 1725288497480,
          "user": {
            "displayName": "",
            "userId": ""
          },
          "user_tz": -120
        },
        "id": "DihacDw7ePni",
        "outputId": "d688f6ef-2699-4b18-fda1-341609300acc"
      },
      "outputs": [
        {
          "data": {
            "text/plain": [
              "DataItem(2.0, schema: FLOAT32)"
            ]
          },
          "execution_count": 3,
          "metadata": {},
          "output_type": "execute_result"
        }
      ],
      "source": [
        "kd.item(2.0)"
      ]
    },
    {
      "cell_type": "code",
      "execution_count": null,
      "metadata": {
        "executionInfo": {
          "elapsed": 14,
          "status": "ok",
          "timestamp": 1725288497546,
          "user": {
            "displayName": "",
            "userId": ""
          },
          "user_tz": -120
        },
        "id": "r5gaSlqMeRaT",
        "outputId": "87daca8e-c1ff-484b-a805-32d1bb542f8f"
      },
      "outputs": [
        {
          "data": {
            "text/plain": [
              "DataItem('string', schema: TEXT)"
            ]
          },
          "execution_count": 4,
          "metadata": {},
          "output_type": "execute_result"
        }
      ],
      "source": [
        "kd.item('string')"
      ]
    },
    {
      "cell_type": "code",
      "execution_count": null,
      "metadata": {
        "executionInfo": {
          "elapsed": 13,
          "status": "ok",
          "timestamp": 1725288497608,
          "user": {
            "displayName": "",
            "userId": ""
          },
          "user_tz": -120
        },
        "id": "klII0X-2eUBx",
        "outputId": "1a1ca0f7-1cc6-4624-e6ad-bfa3de019992"
      },
      "outputs": [
        {
          "data": {
            "text/plain": [
              "DataItem(b'bytes', schema: BYTES)"
            ]
          },
          "execution_count": 5,
          "metadata": {},
          "output_type": "execute_result"
        }
      ],
      "source": [
        "kd.item(b'bytes')"
      ]
    },
    {
      "cell_type": "code",
      "execution_count": null,
      "metadata": {
        "executionInfo": {
          "elapsed": 4,
          "status": "ok",
          "timestamp": 1725288497660,
          "user": {
            "displayName": "",
            "userId": ""
          },
          "user_tz": -120
        },
        "id": "FZoTBABKeWUx",
        "outputId": "a952795a-0340-4351-9ce5-e65bfc6f714a"
      },
      "outputs": [
        {
          "data": {
            "text/plain": [
              "DataItem(True, schema: BOOLEAN)"
            ]
          },
          "execution_count": 6,
          "metadata": {},
          "output_type": "execute_result"
        }
      ],
      "source": [
        "kd.item(True)"
      ]
    },
    {
      "cell_type": "markdown",
      "metadata": {
        "id": "ROyxyM_CegZZ"
      },
      "source": [
        "The two values of `MASK` (`present` and `missing`) can be accessed directly as `kd.present` and `kd.missing`."
      ]
    },
    {
      "cell_type": "code",
      "execution_count": null,
      "metadata": {
        "executionInfo": {
          "elapsed": 19,
          "status": "ok",
          "timestamp": 1725288497732,
          "user": {
            "displayName": "",
            "userId": ""
          },
          "user_tz": -120
        },
        "id": "wn6au13feYF7",
        "outputId": "29c92c33-3295-4f7d-b2e9-ead19ed516d2"
      },
      "outputs": [
        {
          "data": {
            "text/plain": [
              "DataItem(present, schema: MASK)"
            ]
          },
          "execution_count": 7,
          "metadata": {},
          "output_type": "execute_result"
        }
      ],
      "source": [
        "kd.present"
      ]
    },
    {
      "cell_type": "code",
      "execution_count": null,
      "metadata": {
        "executionInfo": {
          "elapsed": 15,
          "status": "ok",
          "timestamp": 1725288497797,
          "user": {
            "displayName": "",
            "userId": ""
          },
          "user_tz": -120
        },
        "id": "blsfWtXJeeSb",
        "outputId": "da5247ad-834a-4854-a80b-f338d8f8d6a6"
      },
      "outputs": [
        {
          "data": {
            "text/plain": [
              "DataItem(None, schema: MASK)"
            ]
          },
          "execution_count": 8,
          "metadata": {},
          "output_type": "execute_result"
        }
      ],
      "source": [
        "kd.missing"
      ]
    },
    {
      "cell_type": "markdown",
      "metadata": {
        "id": "TOk1BIhle2Lp"
      },
      "source": [
        "To distinguish `INT32` vs `INT64` and `FLOAT32` vs `FLOAT64`, we can specify a `dtype` argument in `kd.item(py_primitive, dtype=)`. The primitive types are accessiable from `kd` module. For example, `kd.INT32`, `kd.FLOAT64`."
      ]
    },
    {
      "cell_type": "code",
      "execution_count": null,
      "metadata": {
        "executionInfo": {
          "elapsed": 22,
          "status": "ok",
          "timestamp": 1725288497878,
          "user": {
            "displayName": "",
            "userId": ""
          },
          "user_tz": -120
        },
        "id": "hXTYT9DPeHob",
        "outputId": "184d5f69-e746-4875-ee25-ae5873d98665"
      },
      "outputs": [
        {
          "data": {
            "text/plain": [
              "DataItem(1, schema: INT64)"
            ]
          },
          "execution_count": 9,
          "metadata": {},
          "output_type": "execute_result"
        }
      ],
      "source": [
        "kd.item(1, dtype=kd.INT64)"
      ]
    },
    {
      "cell_type": "markdown",
      "metadata": {
        "id": "S8Wu94qCMRfC"
      },
      "source": [
        "We can have a missing Koda Item with `dtype`. To create a missing Koda item, we can use `kd.item(None, dtype=)`. Note `kd.missing` is equivalent to `kd.item(None, dtype=kd.MASK)` which has `MASK` type."
      ]
    },
    {
      "cell_type": "code",
      "execution_count": null,
      "metadata": {
        "executionInfo": {
          "elapsed": 19,
          "status": "ok",
          "timestamp": 1725288497956,
          "user": {
            "displayName": "",
            "userId": ""
          },
          "user_tz": -120
        },
        "id": "qdBI8joPMNDM",
        "outputId": "4751cde8-158e-4558-9837-0200b902a5e1"
      },
      "outputs": [
        {
          "data": {
            "text/plain": [
              "DataItem(None, schema: INT32)"
            ]
          },
          "execution_count": 10,
          "metadata": {},
          "output_type": "execute_result"
        }
      ],
      "source": [
        "kd.item(None, dtype=kd.INT32)"
      ]
    },
    {
      "cell_type": "code",
      "execution_count": null,
      "metadata": {
        "executionInfo": {
          "elapsed": 23,
          "status": "ok",
          "timestamp": 1725288498042,
          "user": {
            "displayName": "",
            "userId": ""
          },
          "user_tz": -120
        },
        "id": "nHNIlDjkM2zk",
        "outputId": "bdee932b-23a3-415a-d84e-f100cd54a03b"
      },
      "outputs": [
        {
          "data": {
            "text/plain": [
              "DataItem(None, schema: BOOLEAN)"
            ]
          },
          "execution_count": 11,
          "metadata": {},
          "output_type": "execute_result"
        }
      ],
      "source": [
        "kd.item(None, dtype=kd.BOOLEAN)"
      ]
    },
    {
      "cell_type": "code",
      "execution_count": null,
      "metadata": {
        "executionInfo": {
          "elapsed": 7,
          "status": "ok",
          "timestamp": 1725288498115,
          "user": {
            "displayName": "",
            "userId": ""
          },
          "user_tz": -120
        },
        "id": "xFXlEKk7NTEc",
        "outputId": "55fa7a9d-aef0-46de-fba6-f05c220912c8"
      },
      "outputs": [
        {
          "data": {
            "text/plain": [
              "DataItem(None, schema: MASK)"
            ]
          },
          "execution_count": 12,
          "metadata": {},
          "output_type": "execute_result"
        }
      ],
      "source": [
        "kd.item(None, dtype=kd.MASK)"
      ]
    },
    {
      "cell_type": "markdown",
      "metadata": {
        "id": "_lA5_sg2fcMT"
      },
      "source": [
        "### Converting from Koda Primitives to Python Primitives\n",
        "\n"
      ]
    },
    {
      "cell_type": "markdown",
      "metadata": {
        "id": "34Mim11-gK5P"
      },
      "source": [
        "To convert from Koda primitive DataItem to Python primitive, there are two ways.\n",
        "\n",
        "The first way is to use `kd_item.to_py()`. As `MASK` type is not natively supported in Python, we normally don't convert a mask to Python."
      ]
    },
    {
      "cell_type": "code",
      "execution_count": null,
      "metadata": {
        "executionInfo": {
          "elapsed": 6,
          "status": "ok",
          "timestamp": 1725288498180,
          "user": {
            "displayName": "",
            "userId": ""
          },
          "user_tz": -120
        },
        "id": "69o62vWugiYr",
        "outputId": "378f49da-1291-4955-b813-fa6b4ecc6042"
      },
      "outputs": [
        {
          "data": {
            "text/plain": [
              "1"
            ]
          },
          "execution_count": 13,
          "metadata": {},
          "output_type": "execute_result"
        }
      ],
      "source": [
        "kd.item(1).to_py()"
      ]
    },
    {
      "cell_type": "code",
      "execution_count": null,
      "metadata": {
        "executionInfo": {
          "elapsed": 18,
          "status": "ok",
          "timestamp": 1725288498257,
          "user": {
            "displayName": "",
            "userId": ""
          },
          "user_tz": -120
        },
        "id": "QnofCqt0hITI",
        "outputId": "5b8a0a5e-1ab0-4dd1-cca1-d55a8f0e8a5d"
      },
      "outputs": [
        {
          "data": {
            "text/plain": [
              "2.0"
            ]
          },
          "execution_count": 14,
          "metadata": {},
          "output_type": "execute_result"
        }
      ],
      "source": [
        "kd.item(2.0).to_py()"
      ]
    },
    {
      "cell_type": "code",
      "execution_count": null,
      "metadata": {
        "colab": {
          "height": 36
        },
        "executionInfo": {
          "elapsed": 3,
          "status": "ok",
          "timestamp": 1725288498303,
          "user": {
            "displayName": "",
            "userId": ""
          },
          "user_tz": -120
        },
        "id": "W8iBMxqBhKkS",
        "outputId": "e1e1e8d6-6e84-4bbb-9c34-8ebd928d88a6"
      },
      "outputs": [
        {
          "data": {
            "application/vnd.google.colaboratory.intrinsic+json": {
              "type": "string"
            },
            "text/plain": [
              "'string'"
            ]
          },
          "execution_count": 15,
          "metadata": {},
          "output_type": "execute_result"
        }
      ],
      "source": [
        "kd.item('string').to_py()"
      ]
    },
    {
      "cell_type": "code",
      "execution_count": null,
      "metadata": {
        "executionInfo": {
          "elapsed": 94,
          "status": "ok",
          "timestamp": 1725288498778,
          "user": {
            "displayName": "",
            "userId": ""
          },
          "user_tz": -120
        },
        "id": "sMZJVsfGhMY5",
        "outputId": "3576c3b4-2e86-4d74-ee50-3bb3fe30dbbb"
      },
      "outputs": [
        {
          "data": {
            "text/plain": [
              "b'bytes'"
            ]
          },
          "execution_count": 16,
          "metadata": {},
          "output_type": "execute_result"
        }
      ],
      "source": [
        "kd.item(b'bytes').to_py()"
      ]
    },
    {
      "cell_type": "code",
      "execution_count": null,
      "metadata": {
        "executionInfo": {
          "elapsed": 48,
          "status": "ok",
          "timestamp": 1725288499156,
          "user": {
            "displayName": "",
            "userId": ""
          },
          "user_tz": -120
        },
        "id": "DPFnpTIshOMY",
        "outputId": "a96d4792-7105-43ff-b188-e0f729956f1f"
      },
      "outputs": [
        {
          "data": {
            "text/plain": [
              "True"
            ]
          },
          "execution_count": 17,
          "metadata": {},
          "output_type": "execute_result"
        }
      ],
      "source": [
        "kd.item(True).to_py()"
      ]
    },
    {
      "cell_type": "markdown",
      "metadata": {
        "id": "FEcLpPMUhTEa"
      },
      "source": [
        "As Python does not distinguish `INT32` vs `INT64` and `FLOAT32` vs `FLOAT64`, `INT32`/`INT64` and `FLOAT32`/`FLOAT64` are converted to `int` and `float` respectively."
      ]
    },
    {
      "cell_type": "code",
      "execution_count": null,
      "metadata": {
        "executionInfo": {
          "elapsed": 23,
          "status": "ok",
          "timestamp": 1725288499449,
          "user": {
            "displayName": "",
            "userId": ""
          },
          "user_tz": -120
        },
        "id": "5hO1mUPWhRiZ",
        "outputId": "2fab284a-0d9d-4824-bf6d-a28674ace0c2"
      },
      "outputs": [
        {
          "data": {
            "text/plain": [
              "1"
            ]
          },
          "execution_count": 18,
          "metadata": {},
          "output_type": "execute_result"
        }
      ],
      "source": [
        "kd.item(1, dtype=kd.INT64).to_py()"
      ]
    },
    {
      "cell_type": "code",
      "execution_count": null,
      "metadata": {
        "executionInfo": {
          "elapsed": 24,
          "status": "ok",
          "timestamp": 1725288499526,
          "user": {
            "displayName": "",
            "userId": ""
          },
          "user_tz": -120
        },
        "id": "OVwHKwaZiIDk",
        "outputId": "a15aabc2-341c-4503-daeb-9d343fe33883"
      },
      "outputs": [
        {
          "data": {
            "text/plain": [
              "True"
            ]
          },
          "execution_count": 19,
          "metadata": {},
          "output_type": "execute_result"
        }
      ],
      "source": [
        "kd.item(1, dtype=kd.INT64).to_py() == kd.item(1).to_py()"
      ]
    },
    {
      "cell_type": "markdown",
      "metadata": {
        "id": "OjEx5YU7jV6z"
      },
      "source": [
        "The second way is to use Python native APIs. E.g. `int()`, `float()`, `str()`, `bool()`."
      ]
    },
    {
      "cell_type": "code",
      "execution_count": null,
      "metadata": {
        "executionInfo": {
          "elapsed": 35,
          "status": "ok",
          "timestamp": 1725288499751,
          "user": {
            "displayName": "",
            "userId": ""
          },
          "user_tz": -120
        },
        "id": "kxfmkBARi2ps",
        "outputId": "b89ecce2-a4f7-4b13-e0fc-1f78f49d51b2"
      },
      "outputs": [
        {
          "data": {
            "text/plain": [
              "1"
            ]
          },
          "execution_count": 20,
          "metadata": {},
          "output_type": "execute_result"
        }
      ],
      "source": [
        "int(kd.item(1))"
      ]
    },
    {
      "cell_type": "code",
      "execution_count": 5,
      "metadata": {
        "executionInfo": {
          "elapsed": 2,
          "status": "ok",
          "timestamp": 1725348546549,
          "user": {
            "displayName": "",
            "userId": ""
          },
          "user_tz": -120
        },
        "id": "WnL5xxZAjGa6"
      },
      "outputs": [],
      "source": [
        "# raises ValueError: Only INT32/INT64 DataItem can be passed to built-in int\n",
        "# int(kd.item(1.0))"
      ]
    },
    {
      "cell_type": "code",
      "execution_count": null,
      "metadata": {
        "executionInfo": {
          "elapsed": 29,
          "status": "ok",
          "timestamp": 1725288502914,
          "user": {
            "displayName": "",
            "userId": ""
          },
          "user_tz": -120
        },
        "id": "H3Y-_58Aj8Iu",
        "outputId": "3fb2e7d4-4826-4cde-f641-66e9f350385b"
      },
      "outputs": [
        {
          "data": {
            "text/plain": [
              "2.0"
            ]
          },
          "execution_count": 22,
          "metadata": {},
          "output_type": "execute_result"
        }
      ],
      "source": [
        "float(kd.item(2.0))"
      ]
    },
    {
      "cell_type": "code",
      "execution_count": null,
      "metadata": {
        "colab": {
          "height": 36
        },
        "executionInfo": {
          "elapsed": 16,
          "status": "ok",
          "timestamp": 1725288502978,
          "user": {
            "displayName": "",
            "userId": ""
          },
          "user_tz": -120
        },
        "id": "7P6CBNg4j-lf",
        "outputId": "50ec22b1-d8b8-4ce0-e3f4-3b6f5eb1743b"
      },
      "outputs": [
        {
          "data": {
            "application/vnd.google.colaboratory.intrinsic+json": {
              "type": "string"
            },
            "text/plain": [
              "\"'string'\""
            ]
          },
          "execution_count": 23,
          "metadata": {},
          "output_type": "execute_result"
        }
      ],
      "source": [
        "# TODO(b/364041909)\n",
        "str(kd.item('string'))"
      ]
    },
    {
      "cell_type": "code",
      "execution_count": null,
      "metadata": {
        "colab": {
          "height": 36
        },
        "executionInfo": {
          "elapsed": 15,
          "status": "ok",
          "timestamp": 1725288503173,
          "user": {
            "displayName": "",
            "userId": ""
          },
          "user_tz": -120
        },
        "id": "z90fpLw_kCc3",
        "outputId": "80e3d609-6bba-44de-9983-6486856177f5"
      },
      "outputs": [
        {
          "data": {
            "application/vnd.google.colaboratory.intrinsic+json": {
              "type": "string"
            },
            "text/plain": [
              "'2.0'"
            ]
          },
          "execution_count": 24,
          "metadata": {},
          "output_type": "execute_result"
        }
      ],
      "source": [
        "# str() supports all primitives\n",
        "str(2.0)"
      ]
    },
    {
      "cell_type": "markdown",
      "metadata": {
        "id": "kOMLyodJkMVu"
      },
      "source": [
        "It is **important** to note that `bool()` only supports `MASK` dtype but not `BOOL` dtype. See the MASK vs BOOLEAN section to learn more."
      ]
    },
    {
      "cell_type": "code",
      "execution_count": null,
      "metadata": {
        "executionInfo": {
          "elapsed": 5,
          "status": "ok",
          "timestamp": 1725288503282,
          "user": {
            "displayName": "",
            "userId": ""
          },
          "user_tz": -120
        },
        "id": "7SJ89Ir5kGcH",
        "outputId": "3ce007f6-54d1-43ed-e63e-7d2cf250f918"
      },
      "outputs": [
        {
          "data": {
            "text/plain": [
              "True"
            ]
          },
          "execution_count": 25,
          "metadata": {},
          "output_type": "execute_result"
        }
      ],
      "source": [
        "bool(kd.present)"
      ]
    },
    {
      "cell_type": "code",
      "execution_count": null,
      "metadata": {
        "executionInfo": {
          "elapsed": 7,
          "status": "ok",
          "timestamp": 1725288503311,
          "user": {
            "displayName": "",
            "userId": ""
          },
          "user_tz": -120
        },
        "id": "-1BAsv9nkhtm",
        "outputId": "d7543cba-df0d-4f76-c135-68597f518e29"
      },
      "outputs": [
        {
          "data": {
            "text/plain": [
              "False"
            ]
          },
          "execution_count": 26,
          "metadata": {},
          "output_type": "execute_result"
        }
      ],
      "source": [
        "bool(kd.missing)"
      ]
    },
    {
      "cell_type": "code",
      "execution_count": null,
      "metadata": {
        "id": "A8nrRV94knis"
      },
      "outputs": [],
      "source": [
        "# raises ValueError: Cannot cast a non-MASK DataItem to bool\n",
        "# bool(kd.item(True))"
      ]
    },
    {
      "cell_type": "markdown",
      "metadata": {
        "id": "5aLM3-B_iOAZ"
      },
      "source": [
        "### MASK vs BOOLEAN"
      ]
    },
    {
      "cell_type": "markdown",
      "metadata": {
        "id": "uQxGK7dGia7B"
      },
      "source": [
        "Koda supports sparsity natively. The type representing\n",
        "presence/sparsity is `MASK` which can only have two values: `present` and\n",
        "`missing`. The reason `BOOLEAN` is not used for presence is the confusions\n",
        "around\n",
        "[three-valued boolean logic](https://en.wikipedia.org/wiki/Three-valued_logic). The problem is that three-valued boolean logic is not intuitive to everyone.\n",
        "Consider the following code"
      ]
    },
    {
      "cell_type": "code",
      "execution_count": null,
      "metadata": {
        "id": "wT0ky5Y6igST"
      },
      "outputs": [],
      "source": [
        "# Should it be kd.item(True) or kd.item(None)?\n",
        "# ~kd.item(None, dtype=kd.BOOLEAN)\n",
        "\n",
        "# Should it be kd.item(None) because any operations with None should be None?\n",
        "# Should it be kd.item(False) if we follow the three-valued boolean logic?\n",
        "# kd.item(None, dtype=kd.BOOLEAN) \u0026 kd.item(False)\n",
        "\n",
        "# Should it be kd.item(None) because any operations with None should be None?\n",
        "# Should it be kd.item(True) if we follow the three-valued boolean logic?\n",
        "# kd.item(None, dtype=kd.BOOLEAN) | kd.item(True)"
      ]
    },
    {
      "cell_type": "markdown",
      "metadata": {
        "id": "wfNZdXtxpj_i"
      },
      "source": [
        "Another example of the negation operation:"
      ]
    },
    {
      "cell_type": "code",
      "execution_count": null,
      "metadata": {
        "executionInfo": {
          "elapsed": 4,
          "status": "ok",
          "timestamp": 1725288554520,
          "user": {
            "displayName": "",
            "userId": ""
          },
          "user_tz": -120
        },
        "id": "2W9uKl_Ej8Ca",
        "outputId": "252caecd-9c09-4fbf-c47e-0ea7abf0c810"
      },
      "outputs": [
        {
          "data": {
            "text/plain": [
              "DataSlice([1, None, 3], schema: INT32, shape: JaggedShape(3))"
            ]
          },
          "execution_count": 31,
          "metadata": {},
          "output_type": "execute_result"
        }
      ],
      "source": [
        "# 'a' is a DataSlice which will be introduced later.\n",
        "# You can treat it as a \"vector of primitives\" for now.\n",
        "a = kd.slice([1, None, 3])\n",
        "a"
      ]
    },
    {
      "cell_type": "markdown",
      "metadata": {
        "id": "DM5iZyTXl7Jl"
      },
      "source": [
        "Let's say we want to select items which are less than or equal to 2. It is clear that we should only get `1`."
      ]
    },
    {
      "cell_type": "code",
      "execution_count": null,
      "metadata": {
        "executionInfo": {
          "elapsed": 23,
          "status": "ok",
          "timestamp": 1725288554570,
          "user": {
            "displayName": "",
            "userId": ""
          },
          "user_tz": -120
        },
        "id": "5_Urmdmgky50",
        "outputId": "756ef6af-27ea-4f75-fea0-45f219c6deb9"
      },
      "outputs": [
        {
          "data": {
            "text/plain": [
              "DataSlice([1], schema: INT32, shape: JaggedShape(1))"
            ]
          },
          "execution_count": 32,
          "metadata": {},
          "output_type": "execute_result"
        }
      ],
      "source": [
        "kd.select(a, a \u003c= 2)"
      ]
    },
    {
      "cell_type": "markdown",
      "metadata": {
        "id": "nMfVQQsLmW2s"
      },
      "source": [
        "What about the following code? Should it be `[1, None]` or just `[1]`?"
      ]
    },
    {
      "cell_type": "code",
      "execution_count": null,
      "metadata": {
        "executionInfo": {
          "elapsed": 5,
          "status": "ok",
          "timestamp": 1725288554620,
          "user": {
            "displayName": "",
            "userId": ""
          },
          "user_tz": -120
        },
        "id": "eXLMxBwOl0Ai",
        "outputId": "8b8a764f-793e-43b7-bda1-80ba81a65cb4"
      },
      "outputs": [
        {
          "data": {
            "text/plain": [
              "DataSlice([1, None], schema: INT32, shape: JaggedShape(2))"
            ]
          },
          "execution_count": 33,
          "metadata": {},
          "output_type": "execute_result"
        }
      ],
      "source": [
        "kd.select(a, ~(a \u003e 2))"
      ]
    },
    {
      "cell_type": "markdown",
      "metadata": {
        "id": "UytOBvrjioLv"
      },
      "source": [
        "To avoid this issue, Kola uses `MASK` to represent presence which works exactly\n",
        "the same as normal Python True/False. For example"
      ]
    },
    {
      "cell_type": "code",
      "execution_count": null,
      "metadata": {
        "executionInfo": {
          "elapsed": 15,
          "status": "ok",
          "timestamp": 1725288554677,
          "user": {
            "displayName": "",
            "userId": ""
          },
          "user_tz": -120
        },
        "id": "LbfUma1TinHG",
        "outputId": "ce384555-53b8-43cc-e2ad-df0dd8543c09"
      },
      "outputs": [
        {
          "data": {
            "text/plain": [
              "DataItem(None, schema: MASK)"
            ]
          },
          "execution_count": 34,
          "metadata": {},
          "output_type": "execute_result"
        }
      ],
      "source": [
        "kd.present | kd.missing # kd.present\n",
        "kd.missing | kd.present # kd.present\n",
        "\n",
        "kd.missing \u0026 kd.present # kd.missing\n",
        "kd.missing \u0026 kd.present # kd.missing\n",
        "\n",
        "~kd.missing # kd.present\n",
        "~kd.present # kd.missing"
      ]
    },
    {
      "cell_type": "markdown",
      "metadata": {
        "id": "sZ2AMHcjmkOI"
      },
      "source": [
        "It is important to note that `MASK` is normally used to represent two-value booleans unless three-value booleans are needed explicitly."
      ]
    },
    {
      "cell_type": "markdown",
      "metadata": {
        "id": "zrAKaUdtkwaK"
      },
      "source": [
        "When a `MASK` DataItem is used when a Python bool is expected, it is implicitly\n",
        "converted to a Python bool. For example,"
      ]
    },
    {
      "cell_type": "code",
      "execution_count": null,
      "metadata": {
        "executionInfo": {
          "elapsed": 16,
          "status": "ok",
          "timestamp": 1725288554749,
          "user": {
            "displayName": "",
            "userId": ""
          },
          "user_tz": -120
        },
        "id": "9mL8FZ9qirfP",
        "outputId": "017e6d88-d233-4fdd-b685-881eba3865b2"
      },
      "outputs": [
        {
          "name": "stdout",
          "output_type": "stream",
          "text": [
            "DataItem(present, schema: MASK)\n",
            "condition passes\n",
            "DataItem(None, schema: MASK)\n",
            "condition passes\n"
          ]
        }
      ],
      "source": [
        "assert kd.present\n",
        "\n",
        "print(repr(kd.item(1) == 1))\n",
        "if kd.item(1) == 1:\n",
        "  print('condition passes')\n",
        "\n",
        "print(repr(kd.item(2) == 1))\n",
        "if not kd.item(2) == 1:\n",
        "  print('condition passes')"
      ]
    },
    {
      "cell_type": "markdown",
      "metadata": {
        "id": "6_TPkFWRk3zF"
      },
      "source": [
        "To avoid using `BOOLEAN` DataItems by mistake when `MASK` DataItems should be\n",
        "used, implicit conversion from `BOOLEAN` DataItem to python bool is disallowed.\n",
        "However, we can explicitly convert `BOOLEAN` DataItem to `MASK` DataItem by\n",
        "comparing with `True`. For example,"
      ]
    },
    {
      "cell_type": "code",
      "execution_count": null,
      "metadata": {
        "id": "8ITeXfvmTaIL"
      },
      "outputs": [],
      "source": [
        "# raises ValueError: Cannot cast a non-MASK DataItem to bool.\n",
        "# if kd.item(True):\n",
        "#   pass"
      ]
    },
    {
      "cell_type": "code",
      "execution_count": null,
      "metadata": {
        "executionInfo": {
          "elapsed": 33,
          "status": "ok",
          "timestamp": 1725288579606,
          "user": {
            "displayName": "",
            "userId": ""
          },
          "user_tz": -120
        },
        "id": "Ji0qhVwak5_C",
        "outputId": "b124e78a-e7f0-4c0c-fa76-e378d9be9f2e"
      },
      "outputs": [
        {
          "name": "stdout",
          "output_type": "stream",
          "text": [
            "condition passes\n"
          ]
        }
      ],
      "source": [
        "# We can explicitly convert it to MASK by comparing it with True\n",
        "if kd.item(True) == True:\n",
        "  print('condition passes')"
      ]
    },
    {
      "cell_type": "markdown",
      "metadata": {
        "id": "qo-wenrZlG7C"
      },
      "source": [
        "To explicitly convert a `MASK` to a `BOOLEAN`, we can use `kd.cond()`. For\n",
        "example,"
      ]
    },
    {
      "cell_type": "code",
      "execution_count": null,
      "metadata": {
        "executionInfo": {
          "elapsed": 27,
          "status": "ok",
          "timestamp": 1725288579683,
          "user": {
            "displayName": "",
            "userId": ""
          },
          "user_tz": -120
        },
        "id": "ipVuEIpYlRo4",
        "outputId": "cf60a721-854d-4170-f6f0-d27fa7cdba09"
      },
      "outputs": [
        {
          "data": {
            "text/plain": [
              "DataItem(True, schema: BOOLEAN)"
            ]
          },
          "execution_count": 42,
          "metadata": {},
          "output_type": "execute_result"
        }
      ],
      "source": [
        "# Treat kd.missing as False\n",
        "kd.cond(kd.present, True, False)"
      ]
    },
    {
      "cell_type": "code",
      "execution_count": null,
      "metadata": {
        "executionInfo": {
          "elapsed": 21,
          "status": "ok",
          "timestamp": 1725288579760,
          "user": {
            "displayName": "",
            "userId": ""
          },
          "user_tz": -120
        },
        "id": "930myHzklTxq",
        "outputId": "8b20c76f-e5f4-435c-851c-7d63f2c2e78a"
      },
      "outputs": [
        {
          "data": {
            "text/plain": [
              "DataItem(False, schema: BOOLEAN)"
            ]
          },
          "execution_count": 43,
          "metadata": {},
          "output_type": "execute_result"
        }
      ],
      "source": [
        "# Treat kd.missing as False\n",
        "kd.cond(kd.missing, True, False)"
      ]
    },
    {
      "cell_type": "code",
      "execution_count": null,
      "metadata": {
        "executionInfo": {
          "elapsed": 16,
          "status": "ok",
          "timestamp": 1725288579844,
          "user": {
            "displayName": "",
            "userId": ""
          },
          "user_tz": -120
        },
        "id": "OiDLxrUllWTx",
        "outputId": "84303ddd-aa44-4744-d586-f3abc10895b9"
      },
      "outputs": [
        {
          "data": {
            "text/plain": [
              "DataItem(True, schema: BOOLEAN)"
            ]
          },
          "execution_count": 44,
          "metadata": {},
          "output_type": "execute_result"
        }
      ],
      "source": [
        "# Treat kd.missing as None\n",
        "# DIFF\n",
        "kd.cond(kd.present, True, False)"
      ]
    },
    {
      "cell_type": "markdown",
      "metadata": {
        "id": "BKRnudsDlcwy"
      },
      "source": [
        "## List"
      ]
    },
    {
      "cell_type": "markdown",
      "metadata": {
        "id": "Le2HD6nNmc_j"
      },
      "source": [
        "**List** is a special built-in type in Koda. Similar to Python `list`, a Koda list contains a group of **ordered** items."
      ]
    },
    {
      "cell_type": "markdown",
      "metadata": {
        "id": "TnrurCJMmv8h"
      },
      "source": [
        "### Creating Lists"
      ]
    },
    {
      "cell_type": "markdown",
      "metadata": {
        "id": "Ir6o72yKmy34"
      },
      "source": [
        "Koda Lists can be created directly from Python lists using `kd.list(py_list)`. As Koda does not support `tuple` natively, Python tuples are treated as lists too."
      ]
    },
    {
      "cell_type": "code",
      "execution_count": null,
      "metadata": {
        "executionInfo": {
          "elapsed": 5,
          "status": "ok",
          "timestamp": 1725288579892,
          "user": {
            "displayName": "",
            "userId": ""
          },
          "user_tz": -120
        },
        "id": "d4jTfMMcm8kn",
        "outputId": "93c5ad26-174e-4509-a5d4-b57a16b6a22e"
      },
      "outputs": [
        {
          "data": {
            "text/plain": [
              "DataItem(List[], schema: LIST[OBJECT], bag_id: $a61a)"
            ]
          },
          "execution_count": 45,
          "metadata": {},
          "output_type": "execute_result"
        }
      ],
      "source": [
        "# Creates an empty List\n",
        "kd.list()"
      ]
    },
    {
      "cell_type": "code",
      "execution_count": null,
      "metadata": {
        "executionInfo": {
          "elapsed": 22,
          "status": "ok",
          "timestamp": 1725288579940,
          "user": {
            "displayName": "",
            "userId": ""
          },
          "user_tz": -120
        },
        "id": "3jcH9b2gnAUf",
        "outputId": "8125b3b1-82c4-4541-d36d-650128203a72"
      },
      "outputs": [
        {
          "data": {
            "text/plain": [
              "DataItem(List[1, 2, 3, 4], schema: LIST[INT32], bag_id: $0e2b)"
            ]
          },
          "execution_count": 46,
          "metadata": {},
          "output_type": "execute_result"
        }
      ],
      "source": [
        "# Creates a List from a Python list\n",
        "kd.list([1, 2, 3, 4])"
      ]
    },
    {
      "cell_type": "code",
      "execution_count": null,
      "metadata": {
        "executionInfo": {
          "elapsed": 4,
          "status": "ok",
          "timestamp": 1725288579989,
          "user": {
            "displayName": "",
            "userId": ""
          },
          "user_tz": -120
        },
        "id": "SkyNsQZbnAYX",
        "outputId": "b8ee58eb-cf84-4032-bc33-4633d8518d36"
      },
      "outputs": [
        {
          "data": {
            "text/plain": [
              "DataItem(List[List[1, 2], List[3], List[4, 5]], schema: LIST[LIST[INT32]], bag_id: $43e9)"
            ]
          },
          "execution_count": 47,
          "metadata": {},
          "output_type": "execute_result"
        }
      ],
      "source": [
        "# Creates a List from a nested Python list\n",
        "kd.list([[1, 2], [3], [4, 5]])"
      ]
    },
    {
      "cell_type": "code",
      "execution_count": null,
      "metadata": {
        "executionInfo": {
          "elapsed": 16,
          "status": "ok",
          "timestamp": 1725288580031,
          "user": {
            "displayName": "",
            "userId": ""
          },
          "user_tz": -120
        },
        "id": "GIs6iuhNnAbA",
        "outputId": "aa654c61-8d67-4fd8-95fc-4512ddf49772"
      },
      "outputs": [
        {
          "data": {
            "text/plain": [
              "DataItem(List[1, 2, 3, 4], schema: LIST[INT32], bag_id: $9a59)"
            ]
          },
          "execution_count": 48,
          "metadata": {},
          "output_type": "execute_result"
        }
      ],
      "source": [
        "# Creates a List from a tuple\n",
        "kd.list((1, 2, 3, 4))"
      ]
    },
    {
      "cell_type": "code",
      "execution_count": null,
      "metadata": {
        "executionInfo": {
          "elapsed": 16,
          "status": "ok",
          "timestamp": 1725288580097,
          "user": {
            "displayName": "",
            "userId": ""
          },
          "user_tz": -120
        },
        "id": "ryTh5636nAdj",
        "outputId": "7311ef7e-4084-4922-ffcd-d5424bc8fa8c"
      },
      "outputs": [
        {
          "data": {
            "text/plain": [
              "DataItem(List[List[1, 2], List[3], List[4, 5]], schema: LIST[LIST[INT32]], bag_id: $f891)"
            ]
          },
          "execution_count": 49,
          "metadata": {},
          "output_type": "execute_result"
        }
      ],
      "source": [
        "# Creates a List from a list of tuples\n",
        "kd.list([(1, 2), (3,), (4, 5)])"
      ]
    },
    {
      "cell_type": "code",
      "execution_count": null,
      "metadata": {
        "executionInfo": {
          "elapsed": 19,
          "status": "ok",
          "timestamp": 1725288580166,
          "user": {
            "displayName": "",
            "userId": ""
          },
          "user_tz": -120
        },
        "id": "vI9DLh5fhmMQ",
        "outputId": "45fd557a-6989-4ca4-fa9a-641cd17646d7"
      },
      "outputs": [
        {
          "data": {
            "text/plain": [
              "DataItem(List[1, 2, 3], schema: LIST[INT32], bag_id: $07ad)"
            ]
          },
          "execution_count": 50,
          "metadata": {},
          "output_type": "execute_result"
        }
      ],
      "source": [
        "kd.list([1, 2, 3])"
      ]
    },
    {
      "cell_type": "code",
      "execution_count": null,
      "metadata": {
        "executionInfo": {
          "elapsed": 24,
          "status": "ok",
          "timestamp": 1725288580254,
          "user": {
            "displayName": "",
            "userId": ""
          },
          "user_tz": -120
        },
        "id": "dqKiw382hMoQ",
        "outputId": "39ed22f1-a1e3-4557-d2d7-08551cd99aa7"
      },
      "outputs": [
        {
          "data": {
            "text/plain": [
              "DataItem(080baec3ec4d8ef30000000000000006:0, schema: OBJECT, bag_id: $7d64)"
            ]
          },
          "execution_count": 51,
          "metadata": {},
          "output_type": "execute_result"
        }
      ],
      "source": [
        "# TODO(b/364164215)\n",
        "kd.from_py([1, 2, 3])"
      ]
    },
    {
      "cell_type": "code",
      "execution_count": null,
      "metadata": {
        "executionInfo": {
          "elapsed": 4,
          "status": "ok",
          "timestamp": 1725288580310,
          "user": {
            "displayName": "",
            "userId": ""
          },
          "user_tz": -120
        },
        "id": "FXmKrEzkhh2X",
        "outputId": "e2f89bba-a033-4789-abc1-4e3dd559b480"
      },
      "outputs": [
        {
          "data": {
            "text/plain": [
              "DataItem(Dict{1=2}, schema: OBJECT, bag_id: $ed53)"
            ]
          },
          "execution_count": 52,
          "metadata": {},
          "output_type": "execute_result"
        }
      ],
      "source": [
        "kd.from_py({1: 2})"
      ]
    },
    {
      "cell_type": "markdown",
      "metadata": {
        "id": "4NlEwjTBxir1"
      },
      "source": [
        "If the Python list contains dicts, we can also use `kd.from_py()`."
      ]
    },
    {
      "cell_type": "code",
      "execution_count": null,
      "metadata": {
        "id": "iitYy1sAxpOe"
      },
      "outputs": [],
      "source": [
        "# TODO(b/323305977)\n",
        "# kd.from_py([{1: 2}, {3: 4}])"
      ]
    },
    {
      "cell_type": "markdown",
      "metadata": {
        "id": "f1uNMWZq-3wp"
      },
      "source": [
        "The Python list can also contain Koda primitives, Lists, Dicts, or Objects."
      ]
    },
    {
      "cell_type": "code",
      "execution_count": null,
      "metadata": {
        "executionInfo": {
          "elapsed": 26,
          "status": "ok",
          "timestamp": 1725288580433,
          "user": {
            "displayName": "",
            "userId": ""
          },
          "user_tz": -120
        },
        "id": "AVHr9Jjd_tMD",
        "outputId": "f9e59918-42fd-42fd-98f3-03081eb0798a"
      },
      "outputs": [
        {
          "data": {
            "text/plain": [
              "DataItem(List[1, 2], schema: LIST[INT32], bag_id: $6ea7)"
            ]
          },
          "execution_count": 54,
          "metadata": {},
          "output_type": "execute_result"
        }
      ],
      "source": [
        "kd.list([kd.item(1), kd.item(2)])\n",
        "# which is equivalent to\n",
        "kd.list([1, 2])"
      ]
    },
    {
      "cell_type": "code",
      "execution_count": null,
      "metadata": {
        "executionInfo": {
          "elapsed": 23,
          "status": "ok",
          "timestamp": 1725288580491,
          "user": {
            "displayName": "",
            "userId": ""
          },
          "user_tz": -120
        },
        "id": "g4wsssBU-_F3",
        "outputId": "e5d24c6d-a413-462d-b8fe-46f3d944e122"
      },
      "outputs": [
        {
          "data": {
            "text/plain": [
              "DataItem(List[List[1, 2], List[3, 4]], schema: LIST[LIST[INT32]], bag_id: $0ec1)"
            ]
          },
          "execution_count": 55,
          "metadata": {},
          "output_type": "execute_result"
        }
      ],
      "source": [
        "kd.list([kd.list([1, 2]), kd.list([3, 4])])\n",
        "# which is equivalent to\n",
        "kd.list([[1, 2], [3, 4]])"
      ]
    },
    {
      "cell_type": "code",
      "execution_count": null,
      "metadata": {
        "executionInfo": {
          "elapsed": 108,
          "status": "ok",
          "timestamp": 1725288580734,
          "user": {
            "displayName": "",
            "userId": ""
          },
          "user_tz": -120
        },
        "id": "336Vy3im_JkO",
        "outputId": "495851d1-d733-4e8b-9be6-de113eebeb4e"
      },
      "outputs": [
        {
          "data": {
            "text/plain": [
              "DataItem(List[Dict{1=2}, Dict{3=4}], schema: LIST[DICT{INT32, INT32}], bag_id: $c740)"
            ]
          },
          "execution_count": 56,
          "metadata": {},
          "output_type": "execute_result"
        }
      ],
      "source": [
        "# See the Dict section below to learn about Koda Dict\n",
        "kd.list([kd.dict({1: 2}), kd.dict({3: 4})])"
      ]
    },
    {
      "cell_type": "code",
      "execution_count": null,
      "metadata": {
        "executionInfo": {
          "elapsed": 6,
          "status": "ok",
          "timestamp": 1725288580832,
          "user": {
            "displayName": "",
            "userId": ""
          },
          "user_tz": -120
        },
        "id": "E13vI_E1_R6e",
        "outputId": "3c169e6f-2406-41f5-ad90-d25830c2bc0e"
      },
      "outputs": [
        {
          "data": {
            "text/plain": [
              "DataItem(List[Obj(a=1), Obj(a=2)], schema: LIST[OBJECT], bag_id: $e4c2)"
            ]
          },
          "execution_count": 57,
          "metadata": {},
          "output_type": "execute_result"
        }
      ],
      "source": [
        "# See the Object section below to learn about Koda Object\n",
        "kd.list([kd.obj(a=1), kd.obj(a=2)])"
      ]
    },
    {
      "cell_type": "markdown",
      "metadata": {
        "id": "A3I4l8aSNo21"
      },
      "source": [
        "It is possible to get a List DataItem with missing item. While we cannot create it directly using `kd.list()`, we can **mask** any List with `kd.missing`. Note that the List DataItem with missing item keeps the List schema."
      ]
    },
    {
      "cell_type": "code",
      "execution_count": null,
      "metadata": {
        "executionInfo": {
          "elapsed": 25,
          "status": "ok",
          "timestamp": 1725288580919,
          "user": {
            "displayName": "",
            "userId": ""
          },
          "user_tz": -120
        },
        "id": "qImK2aqmNoLh",
        "outputId": "cb694353-72c1-4985-8e73-ce656c438df7"
      },
      "outputs": [
        {
          "data": {
            "text/plain": [
              "DataItem(None, schema: LIST[INT32], bag_id: $3ee9)"
            ]
          },
          "execution_count": 58,
          "metadata": {},
          "output_type": "execute_result"
        }
      ],
      "source": [
        "kd.list([1, 2, 3]) \u0026 kd.missing"
      ]
    },
    {
      "cell_type": "markdown",
      "metadata": {
        "id": "1S89M1F8njsp"
      },
      "source": [
        "### Indexing and Slicing a List"
      ]
    },
    {
      "cell_type": "markdown",
      "metadata": {
        "id": "Pi_9oA4BoZYQ"
      },
      "source": [
        "To index a Koda List, we use `[index]` syntax similar to indexing a Python list.\n",
        "\n",
        "It is **important** to note that using an **out-of-bound** index returns a `None` item rather than raising an exception. It is because Koda is designed to support slicing on **vectorized** Lists where they have different sizes. We will cover vectorization in following tutorials in details."
      ]
    },
    {
      "cell_type": "code",
      "execution_count": null,
      "metadata": {
        "executionInfo": {
          "elapsed": 23,
          "status": "ok",
          "timestamp": 1725288581089,
          "user": {
            "displayName": "",
            "userId": ""
          },
          "user_tz": -120
        },
        "id": "6XZBtGnUno5o",
        "outputId": "bb51393e-c838-4793-d6a8-a988fe5e3784"
      },
      "outputs": [
        {
          "data": {
            "text/plain": [
              "DataItem(2, schema: INT32, bag_id: $002c)"
            ]
          },
          "execution_count": 59,
          "metadata": {},
          "output_type": "execute_result"
        }
      ],
      "source": [
        "l1 = kd.list([1, 2, 3])\n",
        "l1[1]"
      ]
    },
    {
      "cell_type": "code",
      "execution_count": null,
      "metadata": {
        "executionInfo": {
          "elapsed": 4,
          "status": "ok",
          "timestamp": 1725288581143,
          "user": {
            "displayName": "",
            "userId": ""
          },
          "user_tz": -120
        },
        "id": "Pm0ozfxooHN5",
        "outputId": "2b702034-3bbb-4cc2-e603-d97eb77673bb"
      },
      "outputs": [
        {
          "data": {
            "text/plain": [
              "DataItem(None, schema: INT32, bag_id: $002c)"
            ]
          },
          "execution_count": 60,
          "metadata": {},
          "output_type": "execute_result"
        }
      ],
      "source": [
        "# Use an out-of-bound index\n",
        "l1[3]"
      ]
    },
    {
      "cell_type": "code",
      "execution_count": null,
      "metadata": {
        "executionInfo": {
          "elapsed": 17,
          "status": "ok",
          "timestamp": 1725288581184,
          "user": {
            "displayName": "",
            "userId": ""
          },
          "user_tz": -120
        },
        "id": "6ox9N4unpWv5",
        "outputId": "d51ecc90-0d46-4870-f53e-b2a15db5796e"
      },
      "outputs": [
        {
          "data": {
            "text/plain": [
              "DataItem(3, schema: INT64)"
            ]
          },
          "execution_count": 61,
          "metadata": {},
          "output_type": "execute_result"
        }
      ],
      "source": [
        "# Get list size\n",
        "kd.list_size(l1)"
      ]
    },
    {
      "cell_type": "markdown",
      "metadata": {
        "id": "gtsqCz2ap94H"
      },
      "source": [
        "To slice a Koda List, we use `[slice]` syntax similar to slicing a Python list.\n",
        "\n",
        "It is **important** to note that slicing a list returns a **DataSlice** rather than a list, different from Python. A DataSlice is a slice of Koda items and used for vectorization of DataItems. A Koda List is like a reference of the list itself while a DataSlice is a vector of list items. We will cover DataSlice in following tutorials in details."
      ]
    },
    {
      "cell_type": "code",
      "execution_count": null,
      "metadata": {
        "executionInfo": {
          "elapsed": 16,
          "status": "ok",
          "timestamp": 1725288581243,
          "user": {
            "displayName": "",
            "userId": ""
          },
          "user_tz": -120
        },
        "id": "b8NFuN0_qw1I",
        "outputId": "2f89a977-939d-4825-de8c-d490639b60fd"
      },
      "outputs": [
        {
          "data": {
            "text/plain": [
              "DataSlice([1, 2], schema: INT32, shape: JaggedShape(2), bag_id: $002c)"
            ]
          },
          "execution_count": 62,
          "metadata": {},
          "output_type": "execute_result"
        }
      ],
      "source": [
        "l1[:2]"
      ]
    },
    {
      "cell_type": "code",
      "execution_count": null,
      "metadata": {
        "executionInfo": {
          "elapsed": 4,
          "status": "ok",
          "timestamp": 1725288581289,
          "user": {
            "displayName": "",
            "userId": ""
          },
          "user_tz": -120
        },
        "id": "UV3DJj2Oq2ro",
        "outputId": "f4cd0194-4037-45f1-d9d5-00609c928d47"
      },
      "outputs": [
        {
          "data": {
            "text/plain": [
              "DataSlice([1, 2, 3], schema: INT32, shape: JaggedShape(3), bag_id: $002c)"
            ]
          },
          "execution_count": 63,
          "metadata": {},
          "output_type": "execute_result"
        }
      ],
      "source": [
        "# To get all items, use [:]\n",
        "# Later, we will explain this is called list explosion\n",
        "l1[:]"
      ]
    },
    {
      "cell_type": "code",
      "execution_count": null,
      "metadata": {
        "executionInfo": {
          "elapsed": 14,
          "status": "ok",
          "timestamp": 1725288581327,
          "user": {
            "displayName": "",
            "userId": ""
          },
          "user_tz": -120
        },
        "id": "cPVafxHGq-jC",
        "outputId": "b187c1f4-9833-4973-8b57-d4d7c02f4999"
      },
      "outputs": [
        {
          "data": {
            "text/plain": [
              "DataSlice([1, 2, 3], schema: INT32, shape: JaggedShape(3), bag_id: $002c)"
            ]
          },
          "execution_count": 64,
          "metadata": {},
          "output_type": "execute_result"
        }
      ],
      "source": [
        "# Slicing using an out-of-bound index does not raise exception\n",
        "l1[:4]"
      ]
    },
    {
      "cell_type": "markdown",
      "metadata": {
        "id": "A4AIjxhRrOyb"
      },
      "source": [
        "To convert a DataSlice back to a list, we can use `kd.list(slice)`."
      ]
    },
    {
      "cell_type": "code",
      "execution_count": null,
      "metadata": {
        "executionInfo": {
          "elapsed": 14,
          "status": "ok",
          "timestamp": 1725288581390,
          "user": {
            "displayName": "",
            "userId": ""
          },
          "user_tz": -120
        },
        "id": "uOBeIfvYrXL2",
        "outputId": "ccdbac7d-3fdd-44f9-c2a2-c9bc17f5ebf4"
      },
      "outputs": [
        {
          "data": {
            "text/plain": [
              "DataItem(List[1, 2], schema: LIST[INT32], bag_id: $d12b)"
            ]
          },
          "execution_count": 65,
          "metadata": {},
          "output_type": "execute_result"
        }
      ],
      "source": [
        "kd.list(l1[:2])"
      ]
    },
    {
      "cell_type": "markdown",
      "metadata": {
        "id": "1MVdv8JYraND"
      },
      "source": [
        "### Modifying a List"
      ]
    },
    {
      "cell_type": "markdown",
      "metadata": {
        "id": "-UtIBylqtARB"
      },
      "source": [
        "To add items, we can use `append` to add one item or multiple items represented as a DataSlice. We will cover DataSlice in following tutorial later."
      ]
    },
    {
      "cell_type": "code",
      "execution_count": null,
      "metadata": {
        "executionInfo": {
          "elapsed": 18,
          "status": "ok",
          "timestamp": 1725288581442,
          "user": {
            "displayName": "",
            "userId": ""
          },
          "user_tz": -120
        },
        "id": "vQj1aOPgr4xD",
        "outputId": "fad27493-c1e3-41e2-b995-b547464c899e"
      },
      "outputs": [
        {
          "data": {
            "text/plain": [
              "DataItem(List[1, 2, 3], schema: LIST[INT32], bag_id: $1409)"
            ]
          },
          "execution_count": 66,
          "metadata": {},
          "output_type": "execute_result"
        }
      ],
      "source": [
        "l2 = kd.list([1, 2, 3])\n",
        "l2"
      ]
    },
    {
      "cell_type": "code",
      "execution_count": null,
      "metadata": {
        "executionInfo": {
          "elapsed": 3,
          "status": "ok",
          "timestamp": 1725288581476,
          "user": {
            "displayName": "",
            "userId": ""
          },
          "user_tz": -120
        },
        "id": "5IBg9U8or6sB",
        "outputId": "dbcbbd79-8688-417d-b5fb-1460407d9830"
      },
      "outputs": [
        {
          "data": {
            "text/plain": [
              "DataItem(List[1, 2, 3, 4], schema: LIST[INT32], bag_id: $1409)"
            ]
          },
          "execution_count": 67,
          "metadata": {},
          "output_type": "execute_result"
        }
      ],
      "source": [
        "# Append one item to the list\n",
        "l2.append(4)\n",
        "l2"
      ]
    },
    {
      "cell_type": "code",
      "execution_count": null,
      "metadata": {
        "executionInfo": {
          "elapsed": 4,
          "status": "ok",
          "timestamp": 1725288581522,
          "user": {
            "displayName": "",
            "userId": ""
          },
          "user_tz": -120
        },
        "id": "b8S14_XHr-MS",
        "outputId": "b0211413-44fc-47a3-fc06-1279d6f95437"
      },
      "outputs": [
        {
          "data": {
            "text/plain": [
              "DataItem(List[1, 2, 3, 4, 5, 6, 7], schema: LIST[INT32], bag_id: $1409)"
            ]
          },
          "execution_count": 68,
          "metadata": {},
          "output_type": "execute_result"
        }
      ],
      "source": [
        "# Append multiple items\n",
        "l2.append(kd.slice([5, 6, 7]))\n",
        "l2"
      ]
    },
    {
      "cell_type": "code",
      "execution_count": null,
      "metadata": {
        "executionInfo": {
          "elapsed": 15,
          "status": "ok",
          "timestamp": 1725288581560,
          "user": {
            "displayName": "",
            "userId": ""
          },
          "user_tz": -120
        },
        "id": "i0mlRjR8sIOB",
        "outputId": "078ce40b-e347-49f5-e5e7-7565387d97f7"
      },
      "outputs": [
        {
          "data": {
            "text/plain": [
              "DataItem(List[8, 2, 3, 4, 5, 6, 7], schema: LIST[INT32], bag_id: $1409)"
            ]
          },
          "execution_count": 69,
          "metadata": {},
          "output_type": "execute_result"
        }
      ],
      "source": [
        "# Modify the first item\n",
        "l2[0] = 8\n",
        "l2"
      ]
    },
    {
      "cell_type": "code",
      "execution_count": null,
      "metadata": {
        "executionInfo": {
          "elapsed": 4,
          "status": "ok",
          "timestamp": 1725288581610,
          "user": {
            "displayName": "",
            "userId": ""
          },
          "user_tz": -120
        },
        "id": "0c3Av_v_sKf5",
        "outputId": "7a86253c-bbe1-4ddf-b831-528c197b80ed"
      },
      "outputs": [
        {
          "data": {
            "text/plain": [
              "DataItem(List[8, 2, 3, 4, 7, 8], schema: LIST[INT32], bag_id: $1409)"
            ]
          },
          "execution_count": 70,
          "metadata": {},
          "output_type": "execute_result"
        }
      ],
      "source": [
        "# Change the items from #3 to the end to [7, 8]\n",
        "# DIFF\n",
        "l2[4:] = kd.slice([7, 8])\n",
        "l2"
      ]
    },
    {
      "cell_type": "markdown",
      "metadata": {
        "id": "toNiIErZs6HJ"
      },
      "source": [
        "To delete items, we can use `del` or assign corresponding slice to `None`. Or use `pop()` to remove the last item and `clear` to remove all items."
      ]
    },
    {
      "cell_type": "code",
      "execution_count": null,
      "metadata": {
        "executionInfo": {
          "elapsed": 192,
          "status": "ok",
          "timestamp": 1725288581893,
          "user": {
            "displayName": "",
            "userId": ""
          },
          "user_tz": -120
        },
        "id": "2As7zAzQsZXa",
        "outputId": "6e14a4ce-752f-48e6-b2ac-bdcc4f8b57f8"
      },
      "outputs": [
        {
          "data": {
            "text/plain": [
              "DataItem(List[8, 2, 4, 7, 8], schema: LIST[INT32], bag_id: $1409)"
            ]
          },
          "execution_count": 71,
          "metadata": {},
          "output_type": "execute_result"
        }
      ],
      "source": [
        "# Delete items\n",
        "del l2[2]\n",
        "l2"
      ]
    },
    {
      "cell_type": "code",
      "execution_count": null,
      "metadata": {
        "executionInfo": {
          "elapsed": 22,
          "status": "ok",
          "timestamp": 1725288582070,
          "user": {
            "displayName": "",
            "userId": ""
          },
          "user_tz": -120
        },
        "id": "DB5qlI0Csc7B",
        "outputId": "db099f1e-0df7-4305-ddc0-1d58e168786b"
      },
      "outputs": [
        {
          "data": {
            "text/plain": [
              "DataItem(List[8, 2, 4, 7], schema: LIST[INT32], bag_id: $1409)"
            ]
          },
          "execution_count": 72,
          "metadata": {},
          "output_type": "execute_result"
        }
      ],
      "source": [
        "del l2[4:]\n",
        "l2"
      ]
    },
    {
      "cell_type": "code",
      "execution_count": null,
      "metadata": {
        "executionInfo": {
          "elapsed": 14,
          "status": "ok",
          "timestamp": 1725288582276,
          "user": {
            "displayName": "",
            "userId": ""
          },
          "user_tz": -120
        },
        "id": "Q8BpoyvNtX4D",
        "outputId": "d7a1126a-93b1-4596-8ba1-43a58c7c6814"
      },
      "outputs": [
        {
          "data": {
            "text/plain": [
              "DataItem(List[], schema: LIST[INT32], bag_id: $1409)"
            ]
          },
          "execution_count": 73,
          "metadata": {},
          "output_type": "execute_result"
        }
      ],
      "source": [
        "# Delete all items\n",
        "del l2[:]\n",
        "l2"
      ]
    },
    {
      "cell_type": "markdown",
      "metadata": {
        "id": "M423INFhtbVC"
      },
      "source": [
        "Setting item or slice of items to Python `None` is equivalent to setting the corresponding items to **missing** in the List."
      ]
    },
    {
      "cell_type": "code",
      "execution_count": null,
      "metadata": {
        "executionInfo": {
          "elapsed": 17,
          "status": "ok",
          "timestamp": 1725288582318,
          "user": {
            "displayName": "",
            "userId": ""
          },
          "user_tz": -120
        },
        "id": "5EsJ5YJ8sf0h",
        "outputId": "06aa228a-1a33-45b5-801e-c2a78ee4a3e8"
      },
      "outputs": [
        {
          "data": {
            "text/plain": [
              "DataItem(List[None, 2, 3, 4], schema: LIST[INT32], bag_id: $01b5)"
            ]
          },
          "execution_count": 74,
          "metadata": {},
          "output_type": "execute_result"
        }
      ],
      "source": [
        "l3 = kd.list([1, 2, 3, 4])\n",
        "l3[0] = None\n",
        "l3"
      ]
    },
    {
      "cell_type": "code",
      "execution_count": null,
      "metadata": {
        "executionInfo": {
          "elapsed": 22,
          "status": "ok",
          "timestamp": 1725288582379,
          "user": {
            "displayName": "",
            "userId": ""
          },
          "user_tz": -120
        },
        "id": "0Uke1DgRsihh",
        "outputId": "51930c72-e1e6-456e-a0a3-d583a1971c1d"
      },
      "outputs": [
        {
          "data": {
            "text/plain": [
              "DataItem(List[None, None, 3, 4], schema: LIST[INT32], bag_id: $01b5)"
            ]
          },
          "execution_count": 75,
          "metadata": {},
          "output_type": "execute_result"
        }
      ],
      "source": [
        "# TODO: l3[:2] = None\n",
        "l3[:2] = kd.slice([None, None])\n",
        "l3"
      ]
    },
    {
      "cell_type": "code",
      "execution_count": null,
      "metadata": {
        "id": "D2l1HxGctpzB"
      },
      "outputs": [],
      "source": [
        "# TODO(b/364167311)\n",
        "# Setting all items to None\n",
        "# l3[:] = None"
      ]
    },
    {
      "cell_type": "markdown",
      "metadata": {
        "id": "12FHdfrbuj7j"
      },
      "source": [
        "Let's create a list of four items where the third item is missing. Note that the missing item is rendered as `None` in the `repr` format."
      ]
    },
    {
      "cell_type": "code",
      "execution_count": null,
      "metadata": {
        "executionInfo": {
          "elapsed": 78,
          "status": "ok",
          "timestamp": 1725288582504,
          "user": {
            "displayName": "",
            "userId": ""
          },
          "user_tz": -120
        },
        "id": "4gmOqcO4ukPL",
        "outputId": "76effa7a-0733-4616-9549-be0264e4e2d2"
      },
      "outputs": [
        {
          "data": {
            "text/plain": [
              "DataItem(List[1, 2, None, 4], schema: LIST[INT32], bag_id: $46bd)"
            ]
          },
          "execution_count": 76,
          "metadata": {},
          "output_type": "execute_result"
        }
      ],
      "source": [
        "l4 = kd.list([1, 2, None, 4])\n",
        "l4"
      ]
    },
    {
      "cell_type": "markdown",
      "metadata": {
        "id": "Z6g2wlGCu2l7"
      },
      "source": [
        "Now, what if we want to delete the first item by setting it to `None`?"
      ]
    },
    {
      "cell_type": "code",
      "execution_count": null,
      "metadata": {
        "executionInfo": {
          "elapsed": 33,
          "status": "ok",
          "timestamp": 1725288582761,
          "user": {
            "displayName": "",
            "userId": ""
          },
          "user_tz": -120
        },
        "id": "MObufdRYu5pH",
        "outputId": "a0069ac3-3e56-4550-c26e-0aaafd47e180"
      },
      "outputs": [
        {
          "data": {
            "text/plain": [
              "DataItem(List[1, 2, None, 4], schema: LIST[INT32], bag_id: $46bd)"
            ]
          },
          "execution_count": 77,
          "metadata": {},
          "output_type": "execute_result"
        }
      ],
      "source": [
        "l4[2] = None\n",
        "l4"
      ]
    },
    {
      "cell_type": "markdown",
      "metadata": {
        "id": "ZHI7IjB9u_yX"
      },
      "source": [
        "To correctly understand this behavior, it is important to distinguish the Python `None` vs Koda `missing` rendered as `None`.\n",
        "\n",
        "When converting from a Python list, a Python `None` is converted to a Koda `missing`. To delete an item, we set it to Python `None`. To set an item to `missing`, we need to explicitly assign it to a missing item with the right dtype."
      ]
    },
    {
      "cell_type": "code",
      "execution_count": null,
      "metadata": {
        "executionInfo": {
          "elapsed": 37,
          "status": "ok",
          "timestamp": 1725288582948,
          "user": {
            "displayName": "",
            "userId": ""
          },
          "user_tz": -120
        },
        "id": "AK66XloZvs6h",
        "outputId": "5ea41b72-8e40-4c5d-bbe1-ca3ddb7658fe"
      },
      "outputs": [
        {
          "data": {
            "text/plain": [
              "DataItem(List[1, None, None, 4], schema: LIST[INT32], bag_id: $46bd)"
            ]
          },
          "execution_count": 78,
          "metadata": {},
          "output_type": "execute_result"
        }
      ],
      "source": [
        "l4[1] = kd.item(None, dtype=kd.INT32)\n",
        "l4"
      ]
    },
    {
      "cell_type": "code",
      "execution_count": null,
      "metadata": {
        "executionInfo": {
          "elapsed": 14,
          "status": "ok",
          "timestamp": 1725288583059,
          "user": {
            "displayName": "",
            "userId": ""
          },
          "user_tz": -120
        },
        "id": "FvqHDNmzvzpM",
        "outputId": "a0f11790-ee1a-4b7f-d27f-7c7bac9257ae"
      },
      "outputs": [
        {
          "data": {
            "text/plain": [
              "DataItem(List[1, None, None, 4], schema: LIST[INT32], bag_id: $46bd)"
            ]
          },
          "execution_count": 79,
          "metadata": {},
          "output_type": "execute_result"
        }
      ],
      "source": [
        "# Or\n",
        "l4[2] = (l4[2] \u0026 kd.missing)\n",
        "l4"
      ]
    },
    {
      "cell_type": "markdown",
      "metadata": {
        "id": "xhzwUJoZt42o"
      },
      "source": [
        "### Python-like APIs"
      ]
    },
    {
      "cell_type": "markdown",
      "metadata": {
        "id": "CYfX5k0Zvm8m"
      },
      "source": [
        "Koda List also supports APIs similar to Python list.\n",
        "\n",
        "It is **important** to note that these APIs only works for Koda List DataItem but not for List DataSlice. We will cover DataSlice in following tutorial in details."
      ]
    },
    {
      "cell_type": "code",
      "execution_count": null,
      "metadata": {
        "executionInfo": {
          "elapsed": 14,
          "status": "ok",
          "timestamp": 1725288583112,
          "user": {
            "displayName": "",
            "userId": ""
          },
          "user_tz": -120
        },
        "id": "67_DWuOxwF8B",
        "outputId": "f45bfebb-6538-4634-93cb-3fcaddc012b8"
      },
      "outputs": [
        {
          "data": {
            "text/plain": [
              "3"
            ]
          },
          "execution_count": 80,
          "metadata": {},
          "output_type": "execute_result"
        }
      ],
      "source": [
        "l4 = kd.list([1, 2, 3])\n",
        "len(l4)"
      ]
    },
    {
      "cell_type": "code",
      "execution_count": null,
      "metadata": {
        "executionInfo": {
          "elapsed": 4,
          "status": "ok",
          "timestamp": 1725288583161,
          "user": {
            "displayName": "",
            "userId": ""
          },
          "user_tz": -120
        },
        "id": "T30chPIJc1jB",
        "outputId": "318666b6-834a-4951-ed09-ac3d5ae7acb3"
      },
      "outputs": [
        {
          "data": {
            "text/plain": [
              "DataItem(List[1, 2, 3], schema: LIST[INT32], bag_id: $8d49)"
            ]
          },
          "execution_count": 81,
          "metadata": {},
          "output_type": "execute_result"
        }
      ],
      "source": [
        "l4"
      ]
    },
    {
      "cell_type": "code",
      "execution_count": null,
      "metadata": {
        "executionInfo": {
          "elapsed": 3,
          "status": "ok",
          "timestamp": 1725288583210,
          "user": {
            "displayName": "",
            "userId": ""
          },
          "user_tz": -120
        },
        "id": "XBy6rJO_wNbx",
        "outputId": "24ba25b0-d49b-42cb-b36a-7ea896e5ea6a"
      },
      "outputs": [
        {
          "data": {
            "text/plain": [
              "True"
            ]
          },
          "execution_count": 82,
          "metadata": {},
          "output_type": "execute_result"
        }
      ],
      "source": [
        "2 in l4"
      ]
    },
    {
      "cell_type": "code",
      "execution_count": null,
      "metadata": {
        "executionInfo": {
          "elapsed": 4,
          "status": "ok",
          "timestamp": 1725288583255,
          "user": {
            "displayName": "",
            "userId": ""
          },
          "user_tz": -120
        },
        "id": "kfGsOVLbwPCQ",
        "outputId": "daf5883c-f2f4-41bb-a5e3-e88d60e6f034"
      },
      "outputs": [
        {
          "data": {
            "text/plain": [
              "False"
            ]
          },
          "execution_count": 83,
          "metadata": {},
          "output_type": "execute_result"
        }
      ],
      "source": [
        "4 in l4"
      ]
    },
    {
      "cell_type": "code",
      "execution_count": null,
      "metadata": {
        "executionInfo": {
          "elapsed": 96,
          "status": "ok",
          "timestamp": 1725288583385,
          "user": {
            "displayName": "",
            "userId": ""
          },
          "user_tz": -120
        },
        "id": "yOxq_GEmwQ4p",
        "outputId": "5e1ecab6-0d11-44cf-a587-700b61ce283e"
      },
      "outputs": [
        {
          "name": "stdout",
          "output_type": "stream",
          "text": [
            "1\n",
            "2\n",
            "3\n"
          ]
        }
      ],
      "source": [
        "for i in l4:\n",
        "  print(i)"
      ]
    },
    {
      "cell_type": "code",
      "execution_count": null,
      "metadata": {
        "executionInfo": {
          "elapsed": 26,
          "status": "ok",
          "timestamp": 1725288583731,
          "user": {
            "displayName": "",
            "userId": ""
          },
          "user_tz": -120
        },
        "id": "1SktTfZiv7po",
        "outputId": "fadef1b4-53e0-4e85-d1ee-12597b5ff39e"
      },
      "outputs": [
        {
          "data": {
            "text/plain": [
              "DataItem(List[1, 2], schema: LIST[INT32], bag_id: $8d49)"
            ]
          },
          "execution_count": 85,
          "metadata": {},
          "output_type": "execute_result"
        }
      ],
      "source": [
        "# Remove the last items\n",
        "l4.pop()\n",
        "l4"
      ]
    },
    {
      "cell_type": "code",
      "execution_count": null,
      "metadata": {
        "executionInfo": {
          "elapsed": 21,
          "status": "ok",
          "timestamp": 1725288583807,
          "user": {
            "displayName": "",
            "userId": ""
          },
          "user_tz": -120
        },
        "id": "f1OXG132v2gv",
        "outputId": "8941be3a-151d-4ce9-e9b1-c476fefce536"
      },
      "outputs": [
        {
          "data": {
            "text/plain": [
              "DataItem(List[], schema: LIST[INT32], bag_id: $8d49)"
            ]
          },
          "execution_count": 86,
          "metadata": {},
          "output_type": "execute_result"
        }
      ],
      "source": [
        "# Delete all items\n",
        "l4.clear()\n",
        "l4"
      ]
    },
    {
      "cell_type": "markdown",
      "metadata": {
        "id": "GmPvSitMxQrU"
      },
      "source": [
        "### Converting to Python list"
      ]
    },
    {
      "cell_type": "markdown",
      "metadata": {
        "id": "iHbsvc8Dx3KK"
      },
      "source": [
        "To convert a Koda List to a Python list, we can use `to_py()`."
      ]
    },
    {
      "cell_type": "code",
      "execution_count": null,
      "metadata": {
        "id": "_OQ_DbdIxT7B"
      },
      "outputs": [],
      "source": [
        "l = kd.list([[1, 2], [3], [4, 5]])"
      ]
    },
    {
      "cell_type": "code",
      "execution_count": null,
      "metadata": {
        "executionInfo": {
          "elapsed": 108,
          "status": "ok",
          "timestamp": 1725288584097,
          "user": {
            "displayName": "",
            "userId": ""
          },
          "user_tz": -120
        },
        "id": "Jmg1Yl82yB3x",
        "outputId": "818a1aa4-18ff-4fae-f7fa-1b1d06a9eca9"
      },
      "outputs": [
        {
          "data": {
            "text/plain": [
              "DataItem(List[List[1, 2], List[3], List[4, 5]], schema: LIST[LIST[INT32]], bag_id: $9650)"
            ]
          },
          "execution_count": 88,
          "metadata": {},
          "output_type": "execute_result"
        }
      ],
      "source": [
        "l.to_py()"
      ]
    },
    {
      "cell_type": "markdown",
      "metadata": {
        "id": "NgPJKpxI9Iyt"
      },
      "source": [
        "## Dict"
      ]
    },
    {
      "cell_type": "markdown",
      "metadata": {
        "id": "flknbDUvk8Be"
      },
      "source": [
        "**Dict** is a special built-in type in Koda. Similar to Python `dict`, a Koda Dict contains a set of key/value pairs and the cost of key lookup is `O(1)`."
      ]
    },
    {
      "cell_type": "markdown",
      "metadata": {
        "id": "BBA1wwy49LC2"
      },
      "source": [
        "### Creating Dicts"
      ]
    },
    {
      "cell_type": "markdown",
      "metadata": {
        "id": "MuZAKA_p9TST"
      },
      "source": [
        "Koda Dicts can be created directly from Python dicts using `kd.dict(py_dict)`."
      ]
    },
    {
      "cell_type": "code",
      "execution_count": null,
      "metadata": {
        "executionInfo": {
          "elapsed": 4,
          "status": "ok",
          "timestamp": 1725288584155,
          "user": {
            "displayName": "",
            "userId": ""
          },
          "user_tz": -120
        },
        "id": "nIM6jZy596vZ",
        "outputId": "7ccc9e43-80ab-466d-9bc4-7906f291279d"
      },
      "outputs": [
        {
          "data": {
            "text/plain": [
              "DataItem(Dict{}, schema: DICT{OBJECT, OBJECT}, bag_id: $b84f)"
            ]
          },
          "execution_count": 89,
          "metadata": {},
          "output_type": "execute_result"
        }
      ],
      "source": [
        "# Creates an empty Dict\n",
        "kd.dict()"
      ]
    },
    {
      "cell_type": "code",
      "execution_count": null,
      "metadata": {
        "executionInfo": {
          "elapsed": 15,
          "status": "ok",
          "timestamp": 1725288584193,
          "user": {
            "displayName": "",
            "userId": ""
          },
          "user_tz": -120
        },
        "id": "0OTSm-Bh-Y8a",
        "outputId": "8ca31ae2-be39-4339-e83c-64adcba0cb30"
      },
      "outputs": [
        {
          "data": {
            "text/plain": [
              "DataItem(Dict{'b'=2, 'a'=1}, schema: DICT{TEXT, INT32}, bag_id: $17f8)"
            ]
          },
          "execution_count": 90,
          "metadata": {},
          "output_type": "execute_result"
        }
      ],
      "source": [
        "# Creates a Dict from a Python dict\n",
        "kd.dict({'a': 1, 'b': 2})"
      ]
    },
    {
      "cell_type": "code",
      "execution_count": null,
      "metadata": {
        "executionInfo": {
          "elapsed": 28,
          "status": "ok",
          "timestamp": 1725288584247,
          "user": {
            "displayName": "",
            "userId": ""
          },
          "user_tz": -120
        },
        "id": "cGuoo_XT-b1s",
        "outputId": "fcbd5774-88a3-4263-a09c-7a63315d8ad2"
      },
      "outputs": [
        {
          "data": {
            "text/plain": [
              "DataItem(Dict{1=List[2, 3], 4=List[5, 6]}, schema: DICT{INT32, LIST[INT32]}, bag_id: $662b)"
            ]
          },
          "execution_count": 91,
          "metadata": {},
          "output_type": "execute_result"
        }
      ],
      "source": [
        "# Dict values are automatically wrapped to Kola List/Dict\n",
        "kd.dict({1: [2, 3], 4: [5, 6]})"
      ]
    },
    {
      "cell_type": "code",
      "execution_count": null,
      "metadata": {
        "executionInfo": {
          "elapsed": 22,
          "status": "ok",
          "timestamp": 1725288584371,
          "user": {
            "displayName": "",
            "userId": ""
          },
          "user_tz": -120
        },
        "id": "ZFRw1TjP-kmh",
        "outputId": "cfe109f9-8294-42b8-cdfa-7b30af761d06"
      },
      "outputs": [
        {
          "data": {
            "text/plain": [
              "DataItem(Dict{1=Dict{2=3}, 4=Dict{5=6}}, schema: DICT{INT32, DICT{INT32, INT32}}, bag_id: $f7eb)"
            ]
          },
          "execution_count": 92,
          "metadata": {},
          "output_type": "execute_result"
        }
      ],
      "source": [
        "# Dict values are automatically wrapped to Kola List/Dict\n",
        "kd.dict({1: {2: 3}, 4: {5: 6}})"
      ]
    },
    {
      "cell_type": "markdown",
      "metadata": {
        "id": "Xf95GLXA_dJf"
      },
      "source": [
        "The Python dict can also contain Koda primitives, Lists, Dicts, or Objects."
      ]
    },
    {
      "cell_type": "code",
      "execution_count": null,
      "metadata": {
        "executionInfo": {
          "elapsed": 4,
          "status": "ok",
          "timestamp": 1725288584559,
          "user": {
            "displayName": "",
            "userId": ""
          },
          "user_tz": -120
        },
        "id": "mVop2XQX-mhH",
        "outputId": "069a9162-2a21-4a02-ff4a-5ca6a1af4135"
      },
      "outputs": [
        {
          "data": {
            "text/plain": [
              "DataItem(Dict{1=2}, schema: DICT{INT32, INT32}, bag_id: $19ea)"
            ]
          },
          "execution_count": 93,
          "metadata": {},
          "output_type": "execute_result"
        }
      ],
      "source": [
        "kd.dict({kd.item(1): kd.item(2)})\n",
        "# which is equivalent to\n",
        "kd.dict({1: 2})"
      ]
    },
    {
      "cell_type": "code",
      "execution_count": null,
      "metadata": {
        "executionInfo": {
          "elapsed": 24,
          "status": "ok",
          "timestamp": 1725288584607,
          "user": {
            "displayName": "",
            "userId": ""
          },
          "user_tz": -120
        },
        "id": "KBPnVy_x_4vl",
        "outputId": "013dc0fe-ec7b-4583-e762-000856f2822d"
      },
      "outputs": [
        {
          "data": {
            "text/plain": [
              "DataItem(Dict{List[1, 2]=List[3, 4]}, schema: DICT{LIST[INT32], LIST[INT32]}, bag_id: $cebc)"
            ]
          },
          "execution_count": 94,
          "metadata": {},
          "output_type": "execute_result"
        }
      ],
      "source": [
        "# The key is a Koda List.\n",
        "# Actually, it is an ItemId representing a Koda List. We will cover ItemId later.\n",
        "kd.dict({kd.list([1, 2]): kd.list([3, 4])})"
      ]
    },
    {
      "cell_type": "code",
      "execution_count": null,
      "metadata": {
        "executionInfo": {
          "elapsed": 4,
          "status": "ok",
          "timestamp": 1725288584637,
          "user": {
            "displayName": "",
            "userId": ""
          },
          "user_tz": -120
        },
        "id": "XddMJErsACmy",
        "outputId": "69fc24c4-d7a6-4804-9618-ed1378248ab1"
      },
      "outputs": [
        {
          "data": {
            "text/plain": [
              "DataItem(Dict{Dict{1=2}=Dict{3=4}}, schema: DICT{DICT{INT32, INT32}, DICT{INT32, INT32}}, bag_id: $baaf)"
            ]
          },
          "execution_count": 95,
          "metadata": {},
          "output_type": "execute_result"
        }
      ],
      "source": [
        "# The key is a Koda Dict.\n",
        "kd.dict({kd.dict({1: 2}): kd.dict({3: 4})})"
      ]
    },
    {
      "cell_type": "code",
      "execution_count": null,
      "metadata": {
        "executionInfo": {
          "elapsed": 22,
          "status": "ok",
          "timestamp": 1725288584683,
          "user": {
            "displayName": "",
            "userId": ""
          },
          "user_tz": -120
        },
        "id": "Jwy5rP5DAHvx",
        "outputId": "58489e27-bcd1-44f0-a999-74f64d194d20"
      },
      "outputs": [
        {
          "data": {
            "text/plain": [
              "DataItem(Dict{Obj(a=1)=Obj(b=2)}, schema: DICT{OBJECT, OBJECT}, bag_id: $d0b2)"
            ]
          },
          "execution_count": 96,
          "metadata": {},
          "output_type": "execute_result"
        }
      ],
      "source": [
        "# The key is a Koda Object.\n",
        "kd.dict({kd.obj(a=1): kd.obj(b=2)})"
      ]
    },
    {
      "cell_type": "markdown",
      "metadata": {
        "id": "qxm0pDESOCdq"
      },
      "source": [
        "It is possible to get a Dict DataItem with missing item. While we cannot create it directly using kd.dict(), we can mask any Dict with kd.missing. Note that the Dict DataItem with missing item keeps the Dict schema."
      ]
    },
    {
      "cell_type": "code",
      "execution_count": null,
      "metadata": {
        "executionInfo": {
          "elapsed": 6,
          "status": "ok",
          "timestamp": 1725288584727,
          "user": {
            "displayName": "",
            "userId": ""
          },
          "user_tz": -120
        },
        "id": "qSN3OUSgOFbA",
        "outputId": "0d2cd2d2-6ae5-4199-a341-1926796df6a1"
      },
      "outputs": [
        {
          "data": {
            "text/plain": [
              "DataItem(None, schema: DICT{TEXT, INT32}, bag_id: $fd8d)"
            ]
          },
          "execution_count": 97,
          "metadata": {},
          "output_type": "execute_result"
        }
      ],
      "source": [
        "kd.dict({'a': 1, 'b': 2}) \u0026 kd.missing"
      ]
    },
    {
      "cell_type": "markdown",
      "metadata": {
        "id": "5vjzTgpDAhp8"
      },
      "source": [
        "### Looking up in a Koda Dict"
      ]
    },
    {
      "cell_type": "markdown",
      "metadata": {
        "id": "tF1SRzN0AtZj"
      },
      "source": [
        "To look up in a Koda Dict, we use `[key]` syntax similar to look up in a Python dict.\n",
        "\n",
        "It is **important** to note that using a key which is not in the Dict returns a `None` item rather than raising an exception. It is because Koda is designed to support look-up on **vectorized** Dicts where they may or may not contain the key. We will cover vectorization in following tutorials in details."
      ]
    },
    {
      "cell_type": "code",
      "execution_count": null,
      "metadata": {
        "executionInfo": {
          "elapsed": 6,
          "status": "ok",
          "timestamp": 1725288584771,
          "user": {
            "displayName": "",
            "userId": ""
          },
          "user_tz": -120
        },
        "id": "CXjawkbDAssB",
        "outputId": "0a0b745f-eaf6-436b-e88d-fb959611e488"
      },
      "outputs": [
        {
          "data": {
            "text/plain": [
              "DataItem(1, schema: INT32, bag_id: $940c)"
            ]
          },
          "execution_count": 98,
          "metadata": {},
          "output_type": "execute_result"
        }
      ],
      "source": [
        "d1 = kd.dict({'a': 1, 'b': 2})\n",
        "d1['a']"
      ]
    },
    {
      "cell_type": "code",
      "execution_count": null,
      "metadata": {
        "executionInfo": {
          "elapsed": 19,
          "status": "ok",
          "timestamp": 1725288584825,
          "user": {
            "displayName": "",
            "userId": ""
          },
          "user_tz": -120
        },
        "id": "LH0S8xgDCHoA",
        "outputId": "6d213d9a-ef6a-442b-be3e-36e5e3b00171"
      },
      "outputs": [
        {
          "data": {
            "text/plain": [
              "DataItem(None, schema: INT32, bag_id: $940c)"
            ]
          },
          "execution_count": 99,
          "metadata": {},
          "output_type": "execute_result"
        }
      ],
      "source": [
        "# Look up by a key which is not in the Dict\n",
        "d1['c']"
      ]
    },
    {
      "cell_type": "code",
      "execution_count": null,
      "metadata": {
        "executionInfo": {
          "elapsed": 4,
          "status": "ok",
          "timestamp": 1725288584853,
          "user": {
            "displayName": "",
            "userId": ""
          },
          "user_tz": -120
        },
        "id": "jlRWOx_0DQGY",
        "outputId": "9452cf19-d85f-42f3-8454-96357a3bf2e5"
      },
      "outputs": [
        {
          "data": {
            "text/plain": [
              "DataItem(2, schema: INT64)"
            ]
          },
          "execution_count": 100,
          "metadata": {},
          "output_type": "execute_result"
        }
      ],
      "source": [
        "# Get dict size\n",
        "kd.dict_size(d1)"
      ]
    },
    {
      "cell_type": "code",
      "execution_count": null,
      "metadata": {
        "executionInfo": {
          "elapsed": 16,
          "status": "ok",
          "timestamp": 1725288584893,
          "user": {
            "displayName": "",
            "userId": ""
          },
          "user_tz": -120
        },
        "id": "QFHJwxxdDTUf",
        "outputId": "21c317e1-be17-4d0f-c980-1bd9f0112494"
      },
      "outputs": [
        {
          "data": {
            "text/plain": [
              "DataSlice(['b', 'a'], schema: TEXT, shape: JaggedShape(2), bag_id: $940c)"
            ]
          },
          "execution_count": 101,
          "metadata": {},
          "output_type": "execute_result"
        }
      ],
      "source": [
        "# Get all keys\n",
        "d1.get_keys()"
      ]
    },
    {
      "cell_type": "code",
      "execution_count": null,
      "metadata": {
        "executionInfo": {
          "elapsed": 4,
          "status": "ok",
          "timestamp": 1725288584926,
          "user": {
            "displayName": "",
            "userId": ""
          },
          "user_tz": -120
        },
        "id": "5483r3GPDegA",
        "outputId": "6e72e0da-9873-4395-ddf8-0e2ca2c96390"
      },
      "outputs": [
        {
          "data": {
            "text/plain": [
              "DataSlice([2, 1], schema: INT32, shape: JaggedShape(2), bag_id: $940c)"
            ]
          },
          "execution_count": 102,
          "metadata": {},
          "output_type": "execute_result"
        }
      ],
      "source": [
        "# Get all values\n",
        "keys = d1.get_keys()\n",
        "d1[keys]"
      ]
    },
    {
      "cell_type": "markdown",
      "metadata": {
        "id": "isjGCorGDtb7"
      },
      "source": [
        "### Modifying a Dict"
      ]
    },
    {
      "cell_type": "markdown",
      "metadata": {
        "id": "XguafH8qDwaB"
      },
      "source": [
        "To add a new key/value pair or modify an existing key/value pair, we can just do `dict[key] = value`. Or remove a key/value pair, we can do `del dict[key]` or `dict[key] = None`."
      ]
    },
    {
      "cell_type": "code",
      "execution_count": null,
      "metadata": {
        "executionInfo": {
          "elapsed": 21,
          "status": "ok",
          "timestamp": 1725288584978,
          "user": {
            "displayName": "",
            "userId": ""
          },
          "user_tz": -120
        },
        "id": "shnxxeadD01C",
        "outputId": "476dcfcf-fb79-4c43-f2d2-4422ffd17452"
      },
      "outputs": [
        {
          "data": {
            "text/plain": [
              "DataItem(Dict{'a'=1, 'b'=2}, schema: DICT{TEXT, INT32}, bag_id: $73cf)"
            ]
          },
          "execution_count": 103,
          "metadata": {},
          "output_type": "execute_result"
        }
      ],
      "source": [
        "d2 = kd.dict({'a': 1, 'b': 2})\n",
        "d2"
      ]
    },
    {
      "cell_type": "code",
      "execution_count": null,
      "metadata": {
        "executionInfo": {
          "elapsed": 4,
          "status": "ok",
          "timestamp": 1725288585026,
          "user": {
            "displayName": "",
            "userId": ""
          },
          "user_tz": -120
        },
        "id": "KMXcO9xdD2d9",
        "outputId": "cf012c80-4a1d-4995-d9bc-98a224eed6a9"
      },
      "outputs": [
        {
          "data": {
            "text/plain": [
              "DataItem(Dict{'a'=3, 'b'=2}, schema: DICT{TEXT, INT32}, bag_id: $73cf)"
            ]
          },
          "execution_count": 104,
          "metadata": {},
          "output_type": "execute_result"
        }
      ],
      "source": [
        "d2['a'] = 3\n",
        "d2"
      ]
    },
    {
      "cell_type": "code",
      "execution_count": null,
      "metadata": {
        "id": "6HbbhHe_D6qT"
      },
      "outputs": [],
      "source": [
        "# raises KodaError: the schema for Dict value is incompatible.\n",
        "# d2['b'] = 4.0"
      ]
    },
    {
      "cell_type": "code",
      "execution_count": null,
      "metadata": {
        "executionInfo": {
          "elapsed": 17,
          "status": "ok",
          "timestamp": 1725288598893,
          "user": {
            "displayName": "",
            "userId": ""
          },
          "user_tz": -120
        },
        "id": "NufkDX4MEDV1",
        "outputId": "7431772e-34dd-445b-a2ab-33c2dc8ddb05"
      },
      "outputs": [
        {
          "data": {
            "text/plain": [
              "DataItem(Dict{'a'=3, 'b'=2, 'c'=3}, schema: DICT{TEXT, INT32}, bag_id: $73cf)"
            ]
          },
          "execution_count": 107,
          "metadata": {},
          "output_type": "execute_result"
        }
      ],
      "source": [
        "d2['c'] = 3\n",
        "d2"
      ]
    },
    {
      "cell_type": "code",
      "execution_count": null,
      "metadata": {
        "executionInfo": {
          "elapsed": 31,
          "status": "ok",
          "timestamp": 1725288598949,
          "user": {
            "displayName": "",
            "userId": ""
          },
          "user_tz": -120
        },
        "id": "CF8j9D-iEMrs",
        "outputId": "1636b6da-74ec-42ef-c9f1-4fcbf6be9bdf"
      },
      "outputs": [
        {
          "data": {
            "text/plain": [
              "DataItem(Dict{'b'=2, 'c'=3}, schema: DICT{TEXT, INT32}, bag_id: $73cf)"
            ]
          },
          "execution_count": 108,
          "metadata": {},
          "output_type": "execute_result"
        }
      ],
      "source": [
        "del d2['a']\n",
        "d2"
      ]
    },
    {
      "cell_type": "markdown",
      "metadata": {
        "id": "4OHQFZJ4yiXY"
      },
      "source": [
        "Koda Dict does not distinguish missing value and missing key: setting the value to a missing value or Python `None` deleting the key/value pair from the Dict."
      ]
    },
    {
      "cell_type": "code",
      "execution_count": null,
      "metadata": {
        "executionInfo": {
          "elapsed": 5,
          "status": "ok",
          "timestamp": 1725288599010,
          "user": {
            "displayName": "",
            "userId": ""
          },
          "user_tz": -120
        },
        "id": "Sh_zWqClEVZk",
        "outputId": "c79179e6-d9a6-4af3-b262-09bdd28f172a"
      },
      "outputs": [
        {
          "data": {
            "text/plain": [
              "DataItem(Dict{'a'=1}, schema: DICT{TEXT, INT32}, bag_id: $d5f4)"
            ]
          },
          "execution_count": 109,
          "metadata": {},
          "output_type": "execute_result"
        }
      ],
      "source": [
        "d2 = kd.dict({'a': 1, 'b': 2})\n",
        "\n",
        "d2['b'] = None\n",
        "d2"
      ]
    },
    {
      "cell_type": "code",
      "execution_count": null,
      "metadata": {
        "executionInfo": {
          "elapsed": 30,
          "status": "ok",
          "timestamp": 1725288599064,
          "user": {
            "displayName": "",
            "userId": ""
          },
          "user_tz": -120
        },
        "id": "aFjTVYGzDHCM",
        "outputId": "9f208ce7-12c8-49b5-e4ca-26ef6d1ff046"
      },
      "outputs": [
        {
          "data": {
            "text/plain": [
              "DataItem(Dict{}, schema: DICT{TEXT, INT32}, bag_id: $d5f4)"
            ]
          },
          "execution_count": 110,
          "metadata": {},
          "output_type": "execute_result"
        }
      ],
      "source": [
        "d2['a'] = kd.item(None, dtype=kd.INT32)\n",
        "d2"
      ]
    },
    {
      "cell_type": "markdown",
      "metadata": {
        "id": "HsDuCc5XEsB3"
      },
      "source": [
        "### Python-like APIs"
      ]
    },
    {
      "cell_type": "markdown",
      "metadata": {
        "id": "uiKp2D58EuYH"
      },
      "source": [
        "Koda Dict also supports APIs similar to Python dict.\n",
        "\n",
        "It is **important** to note that these APIs only works for Koda Dict DataItem but not for Dict DataSlice. We will cover DataSlice in following tutorial in details."
      ]
    },
    {
      "cell_type": "code",
      "execution_count": null,
      "metadata": {
        "executionInfo": {
          "elapsed": 34,
          "status": "ok",
          "timestamp": 1725288599155,
          "user": {
            "displayName": "",
            "userId": ""
          },
          "user_tz": -120
        },
        "id": "juvthcgDE8UX",
        "outputId": "935702b9-e909-48e6-84b4-3566b6bd7c6a"
      },
      "outputs": [
        {
          "data": {
            "text/plain": [
              "2"
            ]
          },
          "execution_count": 111,
          "metadata": {},
          "output_type": "execute_result"
        }
      ],
      "source": [
        "d3 = kd.dict({'a': 1, 'b': 2})\n",
        "len(d3)"
      ]
    },
    {
      "cell_type": "code",
      "execution_count": null,
      "metadata": {
        "executionInfo": {
          "elapsed": 21,
          "status": "ok",
          "timestamp": 1725288599233,
          "user": {
            "displayName": "",
            "userId": ""
          },
          "user_tz": -120
        },
        "id": "WykxdNtlcZJf",
        "outputId": "9ab32a19-ddd3-4085-b98f-9b018056cde0"
      },
      "outputs": [
        {
          "data": {
            "text/plain": [
              "DataItem(Dict{'a'=1, 'b'=2}, schema: DICT{TEXT, INT32}, bag_id: $0a19)"
            ]
          },
          "execution_count": 112,
          "metadata": {},
          "output_type": "execute_result"
        }
      ],
      "source": [
        "d3"
      ]
    },
    {
      "cell_type": "code",
      "execution_count": null,
      "metadata": {
        "executionInfo": {
          "elapsed": 5,
          "status": "ok",
          "timestamp": 1725288599278,
          "user": {
            "displayName": "",
            "userId": ""
          },
          "user_tz": -120
        },
        "id": "6jUDi6-UFDKI",
        "outputId": "216c273c-5759-4448-f5b4-f2b661ad3a02"
      },
      "outputs": [
        {
          "data": {
            "text/plain": [
              "True"
            ]
          },
          "execution_count": 113,
          "metadata": {},
          "output_type": "execute_result"
        }
      ],
      "source": [
        "'a' in d3"
      ]
    },
    {
      "cell_type": "code",
      "execution_count": null,
      "metadata": {
        "executionInfo": {
          "elapsed": 4,
          "status": "ok",
          "timestamp": 1725288599322,
          "user": {
            "displayName": "",
            "userId": ""
          },
          "user_tz": -120
        },
        "id": "2vPn22XMFHyN",
        "outputId": "1642f804-b25a-4ff0-fd4b-a121ddc2c528"
      },
      "outputs": [
        {
          "data": {
            "text/plain": [
              "False"
            ]
          },
          "execution_count": 114,
          "metadata": {},
          "output_type": "execute_result"
        }
      ],
      "source": [
        "'c' in d3"
      ]
    },
    {
      "cell_type": "code",
      "execution_count": null,
      "metadata": {
        "executionInfo": {
          "elapsed": 70,
          "status": "ok",
          "timestamp": 1725288599413,
          "user": {
            "displayName": "",
            "userId": ""
          },
          "user_tz": -120
        },
        "id": "49d-pUVJFJWS",
        "outputId": "c94dd387-ea8f-40eb-9089-d33d118a724c"
      },
      "outputs": [
        {
          "name": "stdout",
          "output_type": "stream",
          "text": [
            "1\n"
          ]
        }
      ],
      "source": [
        "for k in d3:\n",
        "  if k == 'a':\n",
        "    print(d3[k])"
      ]
    },
    {
      "cell_type": "code",
      "execution_count": null,
      "metadata": {
        "executionInfo": {
          "elapsed": 18,
          "status": "ok",
          "timestamp": 1725288599475,
          "user": {
            "displayName": "",
            "userId": ""
          },
          "user_tz": -120
        },
        "id": "byTDbcOtFSxe",
        "outputId": "a9d7a8f7-92a4-4391-8d42-9d6e3e1e429e"
      },
      "outputs": [
        {
          "data": {
            "text/plain": [
              "DataItem(Dict{'b'=2}, schema: DICT{TEXT, INT32}, bag_id: $0a19)"
            ]
          },
          "execution_count": 116,
          "metadata": {},
          "output_type": "execute_result"
        }
      ],
      "source": [
        "# Remove key/value pair item by key\n",
        "d3.pop('a')\n",
        "d3"
      ]
    },
    {
      "cell_type": "code",
      "execution_count": null,
      "metadata": {
        "executionInfo": {
          "elapsed": 4,
          "status": "ok",
          "timestamp": 1725288599503,
          "user": {
            "displayName": "",
            "userId": ""
          },
          "user_tz": -120
        },
        "id": "Z8oWQjiNFXVN",
        "outputId": "432e6921-99af-4485-c9f0-cd2d3db7d0cf"
      },
      "outputs": [
        {
          "data": {
            "text/plain": [
              "DataItem(Dict{}, schema: DICT{TEXT, INT32}, bag_id: $0a19)"
            ]
          },
          "execution_count": 117,
          "metadata": {},
          "output_type": "execute_result"
        }
      ],
      "source": [
        "# Remove all key/value pairs\n",
        "d3.clear()\n",
        "d3"
      ]
    },
    {
      "cell_type": "markdown",
      "metadata": {
        "id": "3KVBqg4nFiZx"
      },
      "source": [
        "### Converting from Python Dict"
      ]
    },
    {
      "cell_type": "markdown",
      "metadata": {
        "id": "iuu9GhHwGdZ2"
      },
      "source": [
        "To convert a Koda Dict to a Python dict, we can use `to_py()`."
      ]
    },
    {
      "cell_type": "code",
      "execution_count": null,
      "metadata": {
        "executionInfo": {
          "elapsed": 17,
          "status": "ok",
          "timestamp": 1725288599545,
          "user": {
            "displayName": "",
            "userId": ""
          },
          "user_tz": -120
        },
        "id": "7BVThmcmGsAY",
        "outputId": "7949e95e-75e9-4175-ad06-cd85bdccfa12"
      },
      "outputs": [
        {
          "data": {
            "text/plain": [
              "DataItem(Dict{1=List[2, 3], 4=List[5, 6]}, schema: DICT{INT32, LIST[INT32]}, bag_id: $5353)"
            ]
          },
          "execution_count": 118,
          "metadata": {},
          "output_type": "execute_result"
        }
      ],
      "source": [
        "d = kd.dict({1: [2, 3], 4: [5, 6]})\n",
        "d"
      ]
    },
    {
      "cell_type": "code",
      "execution_count": null,
      "metadata": {
        "executionInfo": {
          "elapsed": 20,
          "status": "ok",
          "timestamp": 1725288599609,
          "user": {
            "displayName": "",
            "userId": ""
          },
          "user_tz": -120
        },
        "id": "s196AwXjGw13",
        "outputId": "531c51ad-234a-40fa-9f68-b31e58a6d121"
      },
      "outputs": [
        {
          "data": {
            "text/plain": [
              "DataItem(Dict{1=List[2, 3], 4=List[5, 6]}, schema: DICT{INT32, LIST[INT32]}, bag_id: $5353)"
            ]
          },
          "execution_count": 119,
          "metadata": {},
          "output_type": "execute_result"
        }
      ],
      "source": [
        "d.to_py()"
      ]
    },
    {
      "cell_type": "markdown",
      "metadata": {
        "id": "OCJooc4oLu-p"
      },
      "source": [
        "## Entity"
      ]
    },
    {
      "cell_type": "markdown",
      "metadata": {
        "id": "wSAUD9UYMcmg"
      },
      "source": [
        "A Koda Entity consists of a set of attribute-values. It is similar to a class without member methods (e.g Python dataclass)."
      ]
    },
    {
      "cell_type": "markdown",
      "metadata": {
        "id": "5fKH1MDYPmis"
      },
      "source": [
        "### Creating Entities"
      ]
    },
    {
      "cell_type": "markdown",
      "metadata": {
        "id": "rBbAI16zPqX-"
      },
      "source": [
        "Koda Entities can be created from Python keyword arguments using `kd.new(**kwargs)`."
      ]
    },
    {
      "cell_type": "code",
      "execution_count": null,
      "metadata": {
        "executionInfo": {
          "elapsed": 41,
          "status": "ok",
          "timestamp": 1725288599697,
          "user": {
            "displayName": "",
            "userId": ""
          },
          "user_tz": -120
        },
        "id": "bssxjNCbOHa8",
        "outputId": "dcd99b71-aa0b-4444-b3ab-9c0ff6a85aa5"
      },
      "outputs": [
        {
          "data": {
            "text/plain": [
              "DataItem(Entity():$000baec3ec4d8ef30000000000000038:0, schema: SCHEMA(), bag_id: $c16c)"
            ]
          },
          "execution_count": 120,
          "metadata": {},
          "output_type": "execute_result"
        }
      ],
      "source": [
        "# Creates an empty Entity\n",
        "kd.new()"
      ]
    },
    {
      "cell_type": "code",
      "execution_count": null,
      "metadata": {
        "executionInfo": {
          "elapsed": 24,
          "status": "ok",
          "timestamp": 1725288599823,
          "user": {
            "displayName": "",
            "userId": ""
          },
          "user_tz": -120
        },
        "id": "_tUBjHYaOLSz",
        "outputId": "cf9ab82e-6407-49f2-ca8f-b717a50c72bf"
      },
      "outputs": [
        {
          "data": {
            "text/plain": [
              "DataItem(Entity(a=1, b=2), schema: SCHEMA(a=INT32, b=INT32), bag_id: $7b91)"
            ]
          },
          "execution_count": 121,
          "metadata": {},
          "output_type": "execute_result"
        }
      ],
      "source": [
        "# Creates a Entity\n",
        "kd.new(a=1, b=2)"
      ]
    },
    {
      "cell_type": "code",
      "execution_count": null,
      "metadata": {
        "executionInfo": {
          "elapsed": 16,
          "status": "ok",
          "timestamp": 1725288599973,
          "user": {
            "displayName": "",
            "userId": ""
          },
          "user_tz": -120
        },
        "id": "d25ipDL3PYKT",
        "outputId": "3ce78f4d-fbf1-40bf-b3e7-33a26089dc6c"
      },
      "outputs": [
        {
          "data": {
            "text/plain": [
              "DataItem(Entity(a=List[1, 2], b=Dict{3=4}), schema: SCHEMA(a=LIST[INT32], b=DICT{INT32, INT32}), bag_id: $d561)"
            ]
          },
          "execution_count": 122,
          "metadata": {},
          "output_type": "execute_result"
        }
      ],
      "source": [
        "# 'a' is a List and 'b' is a Dict\n",
        "kd.new(a=[1, 2], b={3: 4})"
      ]
    },
    {
      "cell_type": "markdown",
      "metadata": {
        "id": "VthBu3luSTiZ"
      },
      "source": [
        "It is possible to get a Entity DataItem with a missing item. While we cannot create it directly using `kd.new()`, we can mask any Entity with `kd.missing`. Note that the schema does not change."
      ]
    },
    {
      "cell_type": "code",
      "execution_count": null,
      "metadata": {
        "executionInfo": {
          "elapsed": 17,
          "status": "ok",
          "timestamp": 1725288600033,
          "user": {
            "displayName": "",
            "userId": ""
          },
          "user_tz": -120
        },
        "id": "j9KmW-h2SbZF",
        "outputId": "f8fda75c-ea00-44bf-ffd1-b723f8d1e4ef"
      },
      "outputs": [
        {
          "data": {
            "text/plain": [
              "DataItem(None, schema: SCHEMA(a=INT32, b=INT32), bag_id: $9a1a)"
            ]
          },
          "execution_count": 123,
          "metadata": {},
          "output_type": "execute_result"
        }
      ],
      "source": [
        "kd.new(a=1, b=2) \u0026 kd.missing"
      ]
    },
    {
      "cell_type": "markdown",
      "metadata": {
        "id": "V0tpsadhOe0T"
      },
      "source": [
        "### `kd.new` as the Universal Convertor"
      ]
    },
    {
      "cell_type": "markdown",
      "metadata": {
        "id": "49KmE1gqOmRq"
      },
      "source": [
        "Conceptually, Koda Lists and Dicts can be considerred as Entities as they can be thought as a set of attributes/values too. Therefore, `kd.new` can be used as the universal convertor to convert a Python object (including list/dict) to a corresponding Koda Dict/List/Entity."
      ]
    },
    {
      "cell_type": "code",
      "execution_count": null,
      "metadata": {
        "executionInfo": {
          "elapsed": 7,
          "status": "ok",
          "timestamp": 1725288600082,
          "user": {
            "displayName": "",
            "userId": ""
          },
          "user_tz": -120
        },
        "id": "ToEDCbfcPGiq",
        "outputId": "f874e944-07c7-459b-ee48-90c23a286204"
      },
      "outputs": [
        {
          "data": {
            "text/plain": [
              "DataItem(List[1, 2, 3], schema: LIST[INT32], bag_id: $3974)"
            ]
          },
          "execution_count": 124,
          "metadata": {},
          "output_type": "execute_result"
        }
      ],
      "source": [
        "kd.new([1, 2, 3])"
      ]
    },
    {
      "cell_type": "code",
      "execution_count": null,
      "metadata": {
        "executionInfo": {
          "elapsed": 5,
          "status": "ok",
          "timestamp": 1725288600127,
          "user": {
            "displayName": "",
            "userId": ""
          },
          "user_tz": -120
        },
        "id": "_IbKsjN8PL1d",
        "outputId": "492dd52e-1ad6-4fbd-cb92-6d41097aea0f"
      },
      "outputs": [
        {
          "data": {
            "text/plain": [
              "DataItem(Dict{1=2}, schema: DICT{INT32, INT32}, bag_id: $e525)"
            ]
          },
          "execution_count": 125,
          "metadata": {},
          "output_type": "execute_result"
        }
      ],
      "source": [
        "kd.new({1: 2})"
      ]
    },
    {
      "cell_type": "code",
      "execution_count": null,
      "metadata": {
        "executionInfo": {
          "elapsed": 4,
          "status": "ok",
          "timestamp": 1725288600171,
          "user": {
            "displayName": "",
            "userId": ""
          },
          "user_tz": -120
        },
        "id": "uMsMl5b0P7oO",
        "outputId": "db42ade2-58bb-4e5c-a5e7-dbb8126f84b4"
      },
      "outputs": [
        {
          "data": {
            "text/plain": [
              "DataItem(Entity(a=1, b=2), schema: SCHEMA(a=INT32, b=INT32), bag_id: $8557)"
            ]
          },
          "execution_count": 126,
          "metadata": {},
          "output_type": "execute_result"
        }
      ],
      "source": [
        "kd.new(a=1, b=2)"
      ]
    },
    {
      "cell_type": "markdown",
      "metadata": {
        "id": "3O3tZSjdWOCh"
      },
      "source": [
        "### Accessing Entity Attributes"
      ]
    },
    {
      "cell_type": "markdown",
      "metadata": {
        "id": "0tw2m1U0WSMa"
      },
      "source": [
        "To access an entity attribute, we use `.attr_name` syntax similar to accessing a Python object attribute.\n",
        "\n",
        "It is **important** to note that using an attribute which is not in the Entity does raise an exception."
      ]
    },
    {
      "cell_type": "code",
      "execution_count": null,
      "metadata": {
        "executionInfo": {
          "elapsed": 5,
          "status": "ok",
          "timestamp": 1725288600221,
          "user": {
            "displayName": "",
            "userId": ""
          },
          "user_tz": -120
        },
        "id": "YC03aDjqXeXj",
        "outputId": "4891c9e2-1638-4b6c-e93d-d866786d8221"
      },
      "outputs": [
        {
          "data": {
            "text/plain": [
              "DataItem(1, schema: INT32, bag_id: $566d)"
            ]
          },
          "execution_count": 127,
          "metadata": {},
          "output_type": "execute_result"
        }
      ],
      "source": [
        "o1 = kd.new(a=1, b=2)\n",
        "o1.a"
      ]
    },
    {
      "cell_type": "code",
      "execution_count": null,
      "metadata": {
        "id": "ousBAdoFXfra"
      },
      "outputs": [],
      "source": [
        "# raises ValueError: the attribute 'c' is missing;\n",
        "# o1.c"
      ]
    },
    {
      "cell_type": "code",
      "execution_count": null,
      "metadata": {
        "executionInfo": {
          "elapsed": 5,
          "status": "ok",
          "timestamp": 1725288614888,
          "user": {
            "displayName": "",
            "userId": ""
          },
          "user_tz": -120
        },
        "id": "Hj-RaWIOXhzy",
        "outputId": "b0bf2de0-74b2-4b4c-b923-65b15e62ea5a"
      },
      "outputs": [
        {
          "data": {
            "text/plain": [
              "['a', 'b']"
            ]
          },
          "execution_count": 131,
          "metadata": {},
          "output_type": "execute_result"
        }
      ],
      "source": [
        "dir(o1)"
      ]
    },
    {
      "cell_type": "markdown",
      "metadata": {
        "id": "aQCnd_3MWX6T"
      },
      "source": [
        "### Modifying an Entity"
      ]
    },
    {
      "cell_type": "markdown",
      "metadata": {
        "id": "0PWUc7pgWfSL"
      },
      "source": [
        "To modify an existing attribute, we can just do `entity.attr = value`. Modifying the attribute to a different type raises an exception unless the schema is updated at the same time (i.e. set `update_schema=True`).\n",
        "\n",
        "Adding a new attribute raises an exception unless the schema is updated at the same time\n",
        "\n",
        "To delete an attribute, we can do `del entity.attr` or `entity.attr = None`."
      ]
    },
    {
      "cell_type": "code",
      "execution_count": null,
      "metadata": {
        "executionInfo": {
          "elapsed": 18,
          "status": "ok",
          "timestamp": 1725288614930,
          "user": {
            "displayName": "",
            "userId": ""
          },
          "user_tz": -120
        },
        "id": "ORlhnk3PXCMB",
        "outputId": "c965221d-bb59-45a3-8057-d60082041d4b"
      },
      "outputs": [
        {
          "data": {
            "text/plain": [
              "DataItem(Entity(a=1, b=2), schema: SCHEMA(a=INT32, b=INT32), bag_id: $36dd)"
            ]
          },
          "execution_count": 132,
          "metadata": {},
          "output_type": "execute_result"
        }
      ],
      "source": [
        "o2 = kd.new(a=1, b=2)\n",
        "o2"
      ]
    },
    {
      "cell_type": "code",
      "execution_count": null,
      "metadata": {
        "id": "2cxwRtrwXExJ"
      },
      "outputs": [],
      "source": [
        "# raises ValueError: the attribute 'c' is missing on the schema.;\n",
        "# o2.c = 3"
      ]
    },
    {
      "cell_type": "code",
      "execution_count": null,
      "metadata": {
        "id": "rOvwNdH8T_kh"
      },
      "outputs": [],
      "source": [
        "o2.set_attrs(c=3, update_schema=True)"
      ]
    },
    {
      "cell_type": "code",
      "execution_count": null,
      "metadata": {
        "id": "uOkHUexzXSBT"
      },
      "outputs": [],
      "source": [
        "# raises KodaError: the schema for attribute 'a' is incompatible.\n",
        "# o2.a = 2.0"
      ]
    },
    {
      "cell_type": "code",
      "execution_count": null,
      "metadata": {
        "id": "0v70aJ7xUEVl"
      },
      "outputs": [],
      "source": [
        "o2.set_attrs(a=2.0, update_schema=True)"
      ]
    },
    {
      "cell_type": "markdown",
      "metadata": {
        "id": "zPaXgpf1EKrx"
      },
      "source": [
        "Note that deleting an attribute does not delete the corresponding schema. Thus, the `repr` shows the attribute as `None`. E.g. `a=None` in the following example."
      ]
    },
    {
      "cell_type": "code",
      "execution_count": null,
      "metadata": {
        "executionInfo": {
          "elapsed": 21,
          "status": "ok",
          "timestamp": 1725288640694,
          "user": {
            "displayName": "",
            "userId": ""
          },
          "user_tz": -120
        },
        "id": "VMwIwo22D447",
        "outputId": "de55a184-6600-47ec-a395-80e8d707bba1"
      },
      "outputs": [
        {
          "data": {
            "text/plain": [
              "DataItem(Entity(a=None, b=2, c=3), schema: SCHEMA(a=FLOAT32, b=INT32, c=INT32), bag_id: $36dd)"
            ]
          },
          "execution_count": 141,
          "metadata": {},
          "output_type": "execute_result"
        }
      ],
      "source": [
        "del o2.a\n",
        "o2"
      ]
    },
    {
      "cell_type": "code",
      "execution_count": null,
      "metadata": {
        "executionInfo": {
          "elapsed": 30,
          "status": "ok",
          "timestamp": 1725288640772,
          "user": {
            "displayName": "",
            "userId": ""
          },
          "user_tz": -120
        },
        "id": "W35P-hIdEDHZ",
        "outputId": "0e6b8896-7a70-4686-847e-49343b781b0f"
      },
      "outputs": [
        {
          "data": {
            "text/plain": [
              "DataItem(Entity(a=None, b=2, c=None), schema: SCHEMA(a=FLOAT32, b=INT32, c=INT32), bag_id: $36dd)"
            ]
          },
          "execution_count": 142,
          "metadata": {},
          "output_type": "execute_result"
        }
      ],
      "source": [
        "o2.c = None\n",
        "o2"
      ]
    },
    {
      "cell_type": "markdown",
      "metadata": {
        "id": "yCoVYKoYXjk0"
      },
      "source": [
        "### Converting to Python Object"
      ]
    },
    {
      "cell_type": "markdown",
      "metadata": {
        "id": "DjYaMFedX1aX"
      },
      "source": [
        "As Python does not support Entity, converting a Koda Entity creates the same Python object as converted from a Koda Object."
      ]
    },
    {
      "cell_type": "code",
      "execution_count": null,
      "metadata": {
        "executionInfo": {
          "elapsed": 22,
          "status": "ok",
          "timestamp": 1725288640835,
          "user": {
            "displayName": "",
            "userId": ""
          },
          "user_tz": -120
        },
        "id": "IgYlAbJdXvow",
        "outputId": "ea8f29ed-2cd3-4747-f7ea-fe8202f35478"
      },
      "outputs": [
        {
          "data": {
            "text/plain": [
              "DataItem(Entity(a=1, b='2'), schema: SCHEMA(a=INT32, b=TEXT), bag_id: $4f70)"
            ]
          },
          "execution_count": 143,
          "metadata": {},
          "output_type": "execute_result"
        }
      ],
      "source": [
        "o3 = kd.new(a=1, b='2')\n",
        "py_obj = o3.to_py()\n",
        "py_obj"
      ]
    },
    {
      "cell_type": "code",
      "execution_count": null,
      "metadata": {
        "executionInfo": {
          "elapsed": 5,
          "status": "ok",
          "timestamp": 1725288640879,
          "user": {
            "displayName": "",
            "userId": ""
          },
          "user_tz": -120
        },
        "id": "pmuM4rz4Xy2w",
        "outputId": "ec602988-033c-4245-c8ca-243b7d435b87"
      },
      "outputs": [
        {
          "data": {
            "text/plain": [
              "DataItem(Entity(a=1, b='2'), schema: SCHEMA(a=INT32, b=TEXT), bag_id: $4f70)"
            ]
          },
          "execution_count": 144,
          "metadata": {},
          "output_type": "execute_result"
        }
      ],
      "source": [
        "# internal_as_py returns an ItemId\n",
        "o3.internal_as_py()"
      ]
    },
    {
      "cell_type": "code",
      "execution_count": null,
      "metadata": {
        "id": "V8a7YHJRX0og"
      },
      "outputs": [],
      "source": [
        "# TODO(b/330119958)\n",
        "# o3.to_py(obj_as_dict=True)"
      ]
    },
    {
      "cell_type": "markdown",
      "metadata": {
        "id": "63d1OfQHG5LS"
      },
      "source": [
        "## Object"
      ]
    },
    {
      "cell_type": "markdown",
      "metadata": {
        "id": "DwBFZTMukyFz"
      },
      "source": [
        "There is a special type of Entity called **Koda Object**. The main difference between Objects and Entities is Objects store their own schemas directly as the `__schema__` attribute similar to Python objects store their classes as the `__class__` attribute while Entities' schema is stored at the DataItem/DataSlice level similar to C++ objects' class is stored at `vector` level (e.g. `vector\u003cMyClass\u003e`). We will cover it in detail in the [Koda Schema tutorial](go/koda-tutorial-schema)."
      ]
    },
    {
      "cell_type": "markdown",
      "metadata": {
        "id": "wP1Bf2c9G7wr"
      },
      "source": [
        "### Creating Objects"
      ]
    },
    {
      "cell_type": "markdown",
      "metadata": {
        "id": "74jB_h-wHApP"
      },
      "source": [
        "Koda Objects can be created from Python keyword arguments using `kd.obj(**kwargs)`."
      ]
    },
    {
      "cell_type": "code",
      "execution_count": null,
      "metadata": {
        "executionInfo": {
          "elapsed": 13,
          "status": "ok",
          "timestamp": 1725288640955,
          "user": {
            "displayName": "",
            "userId": ""
          },
          "user_tz": -120
        },
        "id": "aGAUUwfdG_xA",
        "outputId": "7a3ebe2b-34b3-49b0-eab7-a4a467f1d475"
      },
      "outputs": [
        {
          "data": {
            "text/plain": [
              "DataItem(Obj():$000baec3ec4d8ef3000000000000004b:0, schema: OBJECT, bag_id: $c88f)"
            ]
          },
          "execution_count": 146,
          "metadata": {},
          "output_type": "execute_result"
        }
      ],
      "source": [
        "# Creates an empty Object\n",
        "kd.obj()"
      ]
    },
    {
      "cell_type": "code",
      "execution_count": null,
      "metadata": {
        "executionInfo": {
          "elapsed": 20,
          "status": "ok",
          "timestamp": 1725288641012,
          "user": {
            "displayName": "",
            "userId": ""
          },
          "user_tz": -120
        },
        "id": "eMvjoEklHwrC",
        "outputId": "a8e9de80-20cc-4378-a60f-15091f9788e8"
      },
      "outputs": [
        {
          "data": {
            "text/plain": [
              "DataItem(Obj(a=1, b=2), schema: OBJECT, bag_id: $a253)"
            ]
          },
          "execution_count": 147,
          "metadata": {},
          "output_type": "execute_result"
        }
      ],
      "source": [
        "# Creates an Object\n",
        "kd.obj(a=1, b=2)"
      ]
    },
    {
      "cell_type": "code",
      "execution_count": null,
      "metadata": {
        "executionInfo": {
          "elapsed": 4,
          "status": "ok",
          "timestamp": 1725288641044,
          "user": {
            "displayName": "",
            "userId": ""
          },
          "user_tz": -120
        },
        "id": "HLstR7trHzPv",
        "outputId": "298b615d-d0f8-4951-cf66-0a9c90b4f07a"
      },
      "outputs": [
        {
          "data": {
            "text/plain": [
              "DataItem(Obj(a=List[1, 2], b=Dict{3=4}), schema: OBJECT, bag_id: $cbe8)"
            ]
          },
          "execution_count": 148,
          "metadata": {},
          "output_type": "execute_result"
        }
      ],
      "source": [
        "# Creates an Object.\n",
        "# 'a' is a List and 'b' is a Dict\n",
        "kd.obj(a=[1, 2], b={3: 4})"
      ]
    },
    {
      "cell_type": "markdown",
      "metadata": {
        "id": "ON6oeZVcIDp5"
      },
      "source": [
        "The Python keyword arguments can also contain Koda primitives, Lists, Dicts, or Objects."
      ]
    },
    {
      "cell_type": "code",
      "execution_count": null,
      "metadata": {
        "executionInfo": {
          "elapsed": 4,
          "status": "ok",
          "timestamp": 1725288641077,
          "user": {
            "displayName": "",
            "userId": ""
          },
          "user_tz": -120
        },
        "id": "RkomTD7-H5vj",
        "outputId": "cbbf1875-c063-4897-e0fa-748d514485ab"
      },
      "outputs": [
        {
          "data": {
            "text/plain": [
              "DataItem(Obj(a=1, b=2.0), schema: OBJECT, bag_id: $552e)"
            ]
          },
          "execution_count": 149,
          "metadata": {},
          "output_type": "execute_result"
        }
      ],
      "source": [
        "kd.obj(a=kd.item(1), b=kd.item(2.0))\n",
        "# which is equivalent to\n",
        "kd.obj(a=1, b=2.0)"
      ]
    },
    {
      "cell_type": "code",
      "execution_count": null,
      "metadata": {
        "executionInfo": {
          "elapsed": 5,
          "status": "ok",
          "timestamp": 1725288641107,
          "user": {
            "displayName": "",
            "userId": ""
          },
          "user_tz": -120
        },
        "id": "cbhHt4i7IN6i",
        "outputId": "531dafa5-1438-4e56-9692-394df378fb0f"
      },
      "outputs": [
        {
          "data": {
            "text/plain": [
              "DataItem(Obj(a=List[1, 2], b=Dict{3=4}), schema: OBJECT, bag_id: $e431)"
            ]
          },
          "execution_count": 150,
          "metadata": {},
          "output_type": "execute_result"
        }
      ],
      "source": [
        "kd.obj(a=kd.list([1, 2]), b=kd.dict({3: 4}))\n",
        "# which is equivalent to\n",
        "kd.obj(a=[1, 2], b={3: 4})"
      ]
    },
    {
      "cell_type": "code",
      "execution_count": null,
      "metadata": {
        "executionInfo": {
          "elapsed": 4,
          "status": "ok",
          "timestamp": 1725288641137,
          "user": {
            "displayName": "",
            "userId": ""
          },
          "user_tz": -120
        },
        "id": "1-5kGaXPIXBy",
        "outputId": "3374cb18-fa94-4ec3-b82e-c37d880b1293"
      },
      "outputs": [
        {
          "data": {
            "text/plain": [
              "DataItem(Obj(a=Obj(x=1), b=Obj(x=2)), schema: OBJECT, bag_id: $6df4)"
            ]
          },
          "execution_count": 151,
          "metadata": {},
          "output_type": "execute_result"
        }
      ],
      "source": [
        "kd.obj(a=kd.obj(x=1), b=kd.obj(x=2))"
      ]
    },
    {
      "cell_type": "markdown",
      "metadata": {
        "id": "8h8ocmUrOefk"
      },
      "source": [
        "It is possible to get a Object DataItem with missing item. While we cannot create it directly using kd.obj(), we can mask any Object with kd.missing. Note that the Object DataItem with missing item keeps the Object schema."
      ]
    },
    {
      "cell_type": "code",
      "execution_count": null,
      "metadata": {
        "executionInfo": {
          "elapsed": 15,
          "status": "ok",
          "timestamp": 1725288641176,
          "user": {
            "displayName": "",
            "userId": ""
          },
          "user_tz": -120
        },
        "id": "QsSv92o_OjM6",
        "outputId": "5abf227e-123f-4b36-a713-59216a0535db"
      },
      "outputs": [
        {
          "data": {
            "text/plain": [
              "DataItem(None, schema: OBJECT, bag_id: $7759)"
            ]
          },
          "execution_count": 152,
          "metadata": {},
          "output_type": "execute_result"
        }
      ],
      "source": [
        "kd.obj(a=1, b=2) \u0026 kd.missing"
      ]
    },
    {
      "cell_type": "markdown",
      "metadata": {
        "id": "Ws7_YnUkIo8a"
      },
      "source": [
        "### Accessing Object Attributes"
      ]
    },
    {
      "cell_type": "markdown",
      "metadata": {
        "id": "9tPDbdmhIsql"
      },
      "source": [
        "To access an object attribute, we use `.attr_name` syntax similar to accessing a Python object attribute.\n",
        "\n",
        "It is **important** to note that using an attribute which is not in the Object does raise an exception."
      ]
    },
    {
      "cell_type": "code",
      "execution_count": null,
      "metadata": {
        "executionInfo": {
          "elapsed": 15,
          "status": "ok",
          "timestamp": 1725288641230,
          "user": {
            "displayName": "",
            "userId": ""
          },
          "user_tz": -120
        },
        "id": "sujivG7FJFAR",
        "outputId": "cd809e1b-4b82-4dbe-83c9-0fd6a39d786e"
      },
      "outputs": [
        {
          "data": {
            "text/plain": [
              "DataItem(1, schema: INT32, bag_id: $80fd)"
            ]
          },
          "execution_count": 153,
          "metadata": {},
          "output_type": "execute_result"
        }
      ],
      "source": [
        "o1 = kd.obj(a=1, b=2)\n",
        "o1.a"
      ]
    },
    {
      "cell_type": "code",
      "execution_count": null,
      "metadata": {
        "id": "8iyrv7D-JI1Z"
      },
      "outputs": [],
      "source": [
        "# raises ValueError: the attribute 'c' is missing;\n",
        "# o1.c"
      ]
    },
    {
      "cell_type": "code",
      "execution_count": null,
      "metadata": {
        "executionInfo": {
          "elapsed": 5,
          "status": "ok",
          "timestamp": 1725288655060,
          "user": {
            "displayName": "",
            "userId": ""
          },
          "user_tz": -120
        },
        "id": "-tMmbRh5JRSh",
        "outputId": "0e66743b-51ff-488a-9de9-e1de9342ca4c"
      },
      "outputs": [
        {
          "data": {
            "text/plain": [
              "['a', 'b']"
            ]
          },
          "execution_count": 158,
          "metadata": {},
          "output_type": "execute_result"
        }
      ],
      "source": [
        "# To find all attributes\n",
        "dir(o1)"
      ]
    },
    {
      "cell_type": "markdown",
      "metadata": {
        "id": "4xMASLB5JXl5"
      },
      "source": [
        "### Modifying an Object"
      ]
    },
    {
      "cell_type": "markdown",
      "metadata": {
        "id": "B3C38L5OJeGZ"
      },
      "source": [
        "To add a new attribute or modify an existing attribute, we can just do `obj.attr = value`. If `value` has a different schema than the existing value, it changes the underlying schema automatically rather than raising an exception. This is the main difference between Entity and Object. To delete an attribute, we can do `del obj.attr` or `obj.attr = None`."
      ]
    },
    {
      "cell_type": "code",
      "execution_count": null,
      "metadata": {
        "executionInfo": {
          "elapsed": 5,
          "status": "ok",
          "timestamp": 1725288655090,
          "user": {
            "displayName": "",
            "userId": ""
          },
          "user_tz": -120
        },
        "id": "l5gOcLjkJpmU",
        "outputId": "715dd9dd-1475-4f28-a1e0-f162bb0d5d57"
      },
      "outputs": [
        {
          "data": {
            "text/plain": [
              "DataItem(Obj(a=1, b=2), schema: OBJECT, bag_id: $05e4)"
            ]
          },
          "execution_count": 159,
          "metadata": {},
          "output_type": "execute_result"
        }
      ],
      "source": [
        "o2 = kd.obj(a=1, b=2)\n",
        "o2"
      ]
    },
    {
      "cell_type": "code",
      "execution_count": null,
      "metadata": {
        "executionInfo": {
          "elapsed": 6,
          "status": "ok",
          "timestamp": 1725288655132,
          "user": {
            "displayName": "",
            "userId": ""
          },
          "user_tz": -120
        },
        "id": "p-XBSlY2JsHJ",
        "outputId": "f7bf4792-2863-4e12-d285-384ba5f5cd04"
      },
      "outputs": [
        {
          "data": {
            "text/plain": [
              "DataItem(Obj(a=1, b=2, c=3), schema: OBJECT, bag_id: $05e4)"
            ]
          },
          "execution_count": 160,
          "metadata": {},
          "output_type": "execute_result"
        }
      ],
      "source": [
        "o2.c = 3\n",
        "o2"
      ]
    },
    {
      "cell_type": "code",
      "execution_count": null,
      "metadata": {
        "executionInfo": {
          "elapsed": 4,
          "status": "ok",
          "timestamp": 1725288655179,
          "user": {
            "displayName": "",
            "userId": ""
          },
          "user_tz": -120
        },
        "id": "Kn1VHmlsWCcx",
        "outputId": "0053aa1b-cd53-4871-8d78-9dc81b481908"
      },
      "outputs": [
        {
          "data": {
            "text/plain": [
              "DataItem(Obj(a=1, b=2, c=4.0), schema: OBJECT, bag_id: $05e4)"
            ]
          },
          "execution_count": 161,
          "metadata": {},
          "output_type": "execute_result"
        }
      ],
      "source": [
        "# Modify to a different dtype\n",
        "o2.c = 4.0\n",
        "o2"
      ]
    },
    {
      "cell_type": "code",
      "execution_count": null,
      "metadata": {
        "executionInfo": {
          "elapsed": 4,
          "status": "ok",
          "timestamp": 1725288655227,
          "user": {
            "displayName": "",
            "userId": ""
          },
          "user_tz": -120
        },
        "id": "eB3Yg0jsJuGr",
        "outputId": "760b5815-351b-40df-fa30-f62475a19b9f"
      },
      "outputs": [
        {
          "data": {
            "text/plain": [
              "DataItem(Obj(b=2, c=4.0), schema: OBJECT, bag_id: $05e4)"
            ]
          },
          "execution_count": 162,
          "metadata": {},
          "output_type": "execute_result"
        }
      ],
      "source": [
        "# Delete an attribite\n",
        "del o2.a\n",
        "o2"
      ]
    },
    {
      "cell_type": "code",
      "execution_count": null,
      "metadata": {
        "executionInfo": {
          "elapsed": 4,
          "status": "ok",
          "timestamp": 1725288655261,
          "user": {
            "displayName": "",
            "userId": ""
          },
          "user_tz": -120
        },
        "id": "0x-DWCEzJxPI",
        "outputId": "6b3d75f8-8368-4517-9c2d-a5dd0f513c94"
      },
      "outputs": [
        {
          "data": {
            "text/plain": [
              "DataItem(Obj(a=1, b=None), schema: OBJECT, bag_id: $5d7e)"
            ]
          },
          "execution_count": 163,
          "metadata": {},
          "output_type": "execute_result"
        }
      ],
      "source": [
        "# Set attribute to None\n",
        "\n",
        "o2 = kd.obj(a=1, b=2)\n",
        "\n",
        "o2.b = None\n",
        "o2"
      ]
    },
    {
      "cell_type": "markdown",
      "metadata": {
        "id": "-mXjEYbMKaJo"
      },
      "source": [
        "### Converting to Python Object"
      ]
    },
    {
      "cell_type": "markdown",
      "metadata": {
        "id": "b_ro0vwaKjCU"
      },
      "source": [
        "To convert a Koda Object to a Python object, we can use `to_py()`.\n",
        "\n",
        "By default, it implicitly creates a new Python `dataclass` and an object of such class. When `obj_as_dict` is set to True, Python dict is used to represent object attribute/value pairs."
      ]
    },
    {
      "cell_type": "code",
      "execution_count": null,
      "metadata": {
        "executionInfo": {
          "elapsed": 5,
          "status": "ok",
          "timestamp": 1725288655307,
          "user": {
            "displayName": "",
            "userId": ""
          },
          "user_tz": -120
        },
        "id": "Fk-pqaRiKc1R",
        "outputId": "63bb68cb-5b2e-4658-eccd-a933d109b215"
      },
      "outputs": [
        {
          "data": {
            "text/plain": [
              "DataItem(Obj(a=1, b='2'), schema: OBJECT, bag_id: $194b)"
            ]
          },
          "execution_count": 164,
          "metadata": {},
          "output_type": "execute_result"
        }
      ],
      "source": [
        "o3 = kd.obj(a=1, b='2')\n",
        "py_obj = o3.to_py()\n",
        "py_obj"
      ]
    },
    {
      "cell_type": "code",
      "execution_count": null,
      "metadata": {
        "executionInfo": {
          "elapsed": 14,
          "status": "ok",
          "timestamp": 1725288655346,
          "user": {
            "displayName": "",
            "userId": ""
          },
          "user_tz": -120
        },
        "id": "JMAGMMXwK0ER",
        "outputId": "cda4c81a-8cd8-4e45-eaf0-817e95b906df"
      },
      "outputs": [
        {
          "data": {
            "text/plain": [
              "False"
            ]
          },
          "execution_count": 165,
          "metadata": {},
          "output_type": "execute_result"
        }
      ],
      "source": [
        "import dataclasses\n",
        "\n",
        "dataclasses.is_dataclass(py_obj)"
      ]
    },
    {
      "cell_type": "code",
      "execution_count": null,
      "metadata": {
        "id": "3BR1E9esLbYI"
      },
      "outputs": [],
      "source": [
        "# TODO(b/330119958)\n",
        "# o3.to_py(obj_as_dict=True)"
      ]
    },
    {
      "cell_type": "markdown",
      "metadata": {
        "id": "_d-nM7P3R5Px"
      },
      "source": [
        "# Demo: Game of Life"
      ]
    },
    {
      "cell_type": "markdown",
      "metadata": {
        "id": "4utLqCCLTFrA"
      },
      "source": [
        "In this section, we demonstrate how to implement [Game of Life](https://en.wikipedia.org/wiki/Conway%27s_Game_of_Life) using both pure Python and Koda library. We also compare performance of pure Python and Koda.\n",
        "\n",
        "The universe of the Game of Life is an infinite, two-dimensional orthogonal grid of square cells, each of which is in one of two possible states, live or dead (or populated and unpopulated, respectively). Every cell interacts with its eight neighbours, which are the cells that are horizontally, vertically, or diagonally adjacent. At each step in time, the following transitions occur:\n",
        "\n",
        "-  Any live cell with fewer than two live neighbours dies, as if by underpopulation.\n",
        "-  Any live cell with two or three live neighbours lives on to the next generation.\n",
        "-  Any live cell with more than three live neighbours dies, as if by overpopulation.\n",
        "-  Any dead cell with exactly three live neighbours becomes a live cell, as if by reproduction."
      ]
    },
    {
      "cell_type": "code",
      "execution_count": null,
      "metadata": {
        "id": "7X74KEyXR9Xc"
      },
      "outputs": [],
      "source": [
        "from IPython.display import clear_output\n",
        "import time"
      ]
    },
    {
      "cell_type": "markdown",
      "metadata": {
        "id": "I5OC8JwkTKVe"
      },
      "source": [
        "## Python Version"
      ]
    },
    {
      "cell_type": "code",
      "execution_count": null,
      "metadata": {
        "id": "D6mpWGYXSClj"
      },
      "outputs": [],
      "source": [
        "def CreateState(M, N, init_alives):\n",
        "  \"\"\"Creates the initial state.\n",
        "\n",
        "  Args:\n",
        "    M: number of rows\n",
        "    N: number of columns\n",
        "    init_alives: list of (x, y) coordinate tuple\n",
        "\n",
        "  Returns:\n",
        "    initial state\n",
        "  \"\"\"\n",
        "  state = [['.'] * N for i in range(M)]\n",
        "  for (i, j) in init_alives:\n",
        "    state[i][j] = '$'\n",
        "  return state\n",
        "\n",
        "def NextState(state):\n",
        "  \"\"\"Finds out alive cells for the next iteration and update the state.\n",
        "\n",
        "  Args:\n",
        "    state: current state\n",
        "\n",
        "  Returns:\n",
        "    next state\n",
        "  \"\"\"\n",
        "  M = len(state)\n",
        "  N = len(state[0])\n",
        "  new_state = [['.'] * N for i in range(M)]\n",
        "\n",
        "  # Loop through all cells in the grid\n",
        "  for i in range(M):\n",
        "    for j in range(N):\n",
        "      # Calculate the count of alive neighbors\n",
        "      alive_count = 0\n",
        "      for x in range(i-1, i+2):\n",
        "        for y in range(j-1, j+2):\n",
        "          if x\u003e=0 and x\u003cM and y\u003e=0 and y\u003cN and (x!=i or y!=j) and state[x][y]=='$':\n",
        "            alive_count += 1\n",
        "      # Determine the alive state of current cell\n",
        "      if alive_count==3 or (alive_count==2 and state[i][j]=='$'):\n",
        "        new_state[i][j] = '$'\n",
        "  return new_state\n",
        "\n",
        "def PrintState(state):\n",
        "  \"Prints out the current state as grid.\"\n",
        "  for i in range(len(state)):\n",
        "    print(''.join(state[i]))\n",
        "\n",
        "def PrintStateLoop(state, n, wait):\n",
        "  \"\"\"Prints out the state for each iteration.\n",
        "\n",
        "  Args:\n",
        "    state: initial state\n",
        "    n: number of iterations\n",
        "    wait: time to wait between iterations\n",
        "  \"\"\"\n",
        "  PrintState(state)\n",
        "  for i in range(n):\n",
        "    clear_output(wait=True)\n",
        "    state = NextState(state)\n",
        "    PrintState(state)\n",
        "    time.sleep(wait)"
      ]
    },
    {
      "cell_type": "markdown",
      "metadata": {
        "id": "kt_i4ZjNSHYi"
      },
      "source": [
        "Let's initialize the state and play the game with 20x20 grid and 50 steps."
      ]
    },
    {
      "cell_type": "code",
      "execution_count": null,
      "metadata": {
        "executionInfo": {
          "elapsed": 5062,
          "status": "ok",
          "timestamp": 1725288660573,
          "user": {
            "displayName": "",
            "userId": ""
          },
          "user_tz": -120
        },
        "id": "BBeCZSYCSFbt",
        "outputId": "6e348f08-fabc-4d26-dc2d-e6752645656e"
      },
      "outputs": [
        {
          "name": "stdout",
          "output_type": "stream",
          "text": [
            "..$$................\n",
            ".$..$...............\n",
            ".$$$................\n",
            ".$$.........$$..$$..\n",
            "............$$......\n",
            "....$$$....$..$$$...\n",
            "...$...$.......$....\n",
            "...$...$.......$....\n",
            "...$...$............\n",
            "....$$$.............\n",
            "....................\n",
            "....................\n",
            "....................\n",
            "....................\n",
            "....................\n",
            "....................\n",
            "....................\n",
            "....................\n",
            "....................\n",
            "....................\n"
          ]
        }
      ],
      "source": [
        "state = CreateState(20, 20, [(6, 1), (6, 2), (6, 3), (8, 2), (5, 3)])\n",
        "PrintStateLoop(state, 50, 0.1)"
      ]
    },
    {
      "cell_type": "markdown",
      "metadata": {
        "id": "3wZ2rwC_TOP8"
      },
      "source": [
        "## Koda Version using Python-like APIs"
      ]
    },
    {
      "cell_type": "code",
      "execution_count": null,
      "metadata": {
        "id": "9tfOnc38SIlz"
      },
      "outputs": [],
      "source": [
        "def CreateState(M, N, init_alives):\n",
        "  \"\"\"Creates the initial state.\n",
        "\n",
        "  Args:\n",
        "    M: number of rows\n",
        "    N: number of columns\n",
        "    init_alives: list of (x, y) coordinate tuple\n",
        "\n",
        "  Returns:\n",
        "    initial state\n",
        "  \"\"\"\n",
        "  state = kd.list([['.'] * N for i in range(M)])   # Modified to use kd.list\n",
        "  for (i, j) in init_alives:\n",
        "    state[i][j] = '$'\n",
        "  return state\n",
        "\n",
        "def NextState(state):\n",
        "  \"\"\"Finds out alive cells for the next iteration and update the state.\n",
        "\n",
        "  Args:\n",
        "    state: current state\n",
        "\n",
        "  Returns:\n",
        "    next state\n",
        "  \"\"\"\n",
        "  M = len(state)\n",
        "  N = len(state[0])\n",
        "  new_state = kd.list([['.'] * N for i in range(M)])   # Modified to use kd.list\n",
        "\n",
        "  # Loop through all cells in the grid\n",
        "  for i in range(M):\n",
        "    for j in range(N):\n",
        "      # Calculate the count of alive neighbors\n",
        "      alive_count = 0\n",
        "      for x in range(i-1, i+2):\n",
        "        for y in range(j-1, j+2):\n",
        "          if x\u003e=0 and x\u003cM and y\u003e=0 and y\u003cN and (x!=i or y!=j) and state[x][y]=='$':\n",
        "            alive_count += 1\n",
        "      # Determine the alive state of current cell\n",
        "      if alive_count==3 or (alive_count==2 and state[i][j]=='$'):\n",
        "        new_state[i][j] = '$'\n",
        "  return new_state\n",
        "\n",
        "def PrintState(state):\n",
        "  \"Prints out the current state as grid.\"\n",
        "  for i in range(len(state)):\n",
        "    print(''.join(state[i][:].to_py()))  # Modified to use kd.list\n",
        "\n",
        "def PrintStateLoop(state, n, wait):\n",
        "  \"\"\"Prints out the state for each iteration.\n",
        "\n",
        "  Args:\n",
        "    state: initial state\n",
        "    n: number of iterations\n",
        "    wait: time to wait between iterations\n",
        "  \"\"\"\n",
        "  PrintState(state)\n",
        "  for i in range(n):\n",
        "    clear_output(wait=True)\n",
        "    state = NextState(state)\n",
        "    PrintState(state)\n",
        "    time.sleep(wait)"
      ]
    },
    {
      "cell_type": "markdown",
      "metadata": {
        "id": "GlVE36onSMLF"
      },
      "source": [
        "As we can see, the Koda version is almost exactly the same as the Python version except three lines marked with `# Modified to xxx`.\n",
        "\n",
        "Let's run it with the same setup."
      ]
    },
    {
      "cell_type": "code",
      "execution_count": null,
      "metadata": {
        "executionInfo": {
          "elapsed": 5766,
          "status": "ok",
          "timestamp": 1725288666411,
          "user": {
            "displayName": "",
            "userId": ""
          },
          "user_tz": -120
        },
        "id": "cj_kkHz5SM4Z",
        "outputId": "59221afe-8011-41bb-aff6-f2a7e964ca38"
      },
      "outputs": [
        {
          "name": "stdout",
          "output_type": "stream",
          "text": [
            "..$$................\n",
            ".$..$...............\n",
            ".$$$................\n",
            ".$$.........$$..$$..\n",
            "............$$......\n",
            "....$$$....$..$$$...\n",
            "...$...$.......$....\n",
            "...$...$.......$....\n",
            "...$...$............\n",
            "....$$$.............\n",
            "....................\n",
            "....................\n",
            "....................\n",
            "....................\n",
            "....................\n",
            "....................\n",
            "....................\n",
            "....................\n",
            "....................\n",
            "....................\n"
          ]
        }
      ],
      "source": [
        "state = CreateState(20, 20, [(6, 1), (6, 2), (6, 3), (8, 2), (5, 3)])\n",
        "PrintStateLoop(state, 50, 0.1)"
      ]
    },
    {
      "cell_type": "markdown",
      "metadata": {
        "id": "zwln__H_TyAN"
      },
      "source": [
        "As we see, the Koda version runs extremely slow. This is because it does a lot of conversion between native Python data structure and Koda data structure."
      ]
    },
    {
      "cell_type": "markdown",
      "metadata": {
        "id": "h6OXF7JiUI2C"
      },
      "source": [
        "## Native Koda Implementation"
      ]
    },
    {
      "cell_type": "markdown",
      "metadata": {
        "id": "51XdThfLUm2J"
      },
      "source": [
        "The code below shows how to implement it using Koda native APIs. That is, there is no back-and-forward conversion between Python and Koda and we leverage the vectorized computation of Koda.\n",
        "\n",
        "As it uses APIs and concepts we haven't covered yet, you may ignore the actual code for now."
      ]
    },
    {
      "cell_type": "code",
      "execution_count": null,
      "metadata": {
        "executionInfo": {
          "elapsed": 5135,
          "status": "ok",
          "timestamp": 1725288671584,
          "user": {
            "displayName": "",
            "userId": ""
          },
          "user_tz": -120
        },
        "id": "spLalipyUMZm",
        "outputId": "34a1da0c-eca1-4541-8485-2c5f783313b6"
      },
      "outputs": [
        {
          "name": "stdout",
          "output_type": "stream",
          "text": [
            "..$$................\n",
            ".$..$...............\n",
            ".$$$................\n",
            ".$$.........$$..$$..\n",
            "............$$......\n",
            "....$$$....$..$$$...\n",
            "...$...$.......$....\n",
            "...$...$.......$....\n",
            "...$...$............\n",
            "....$$$.............\n",
            "....................\n",
            "....................\n",
            "....................\n",
            "....................\n",
            "....................\n",
            "....................\n",
            "....................\n",
            "....................\n",
            "....................\n",
            "....................\n"
          ]
        }
      ],
      "source": [
        "def CreateState(M, N, init_alives):\n",
        "  \"\"\"Creates the initial state.\n",
        "\n",
        "  Args:\n",
        "    M: number of rows\n",
        "    N: number of columns\n",
        "    init_alives: list of (x, y) coordinate tuple\n",
        "\n",
        "  Returns:\n",
        "    initial state as a DataSlice\n",
        "  \"\"\"\n",
        "  state = kd.obj()\n",
        "  # Creates a grid with M rows and M*N cells.\n",
        "  # Each cell has a `alive` attribute with MASK dtype initialized to kd.missing\n",
        "  state.rows = kd.list(kd.new(cells=kd.list(kd.new(alive=kd.slice(kd.missing).repeat(M).repeat(N)))))\n",
        "  # Set initial alive cells.\n",
        "  for (i, j) in init_alives:\n",
        "    state.rows[i].cells[j].alive = kd.present\n",
        "  return state\n",
        "\n",
        "# Add neighbor cells for all cells.\n",
        "def AddNeighbors(state):\n",
        "  \"\"\"Adds neighbor cells for all cells.\n",
        "\n",
        "  Args:\n",
        "    state: initial state as a DataSlice\n",
        "\n",
        "  Returns:\n",
        "    state with neighbor cells added\n",
        "  \"\"\"\n",
        "  # Set row 'x' and column 'y' indices.\n",
        "  row = state.rows[:]  # One-dimension DataSlice containing row ItemIds\n",
        "  row.set_attr('x', kd.index(row), update_schema=True) # One-dimension DataSlice containing row indices\n",
        "  row_cell = row.cells[:] # Two-dimension DataSlice containing cell ItemIds\n",
        "  row_cell.set_attr('y', kd.index(row_cell), update_schema=True) # Two-dimension DataSlice containing cell indices\n",
        "\n",
        "  cell = row_cell\n",
        "  cell.set_attr('neighbors', kd.list_like(cell), update_schema=True)\n",
        "  # Loop through neighbors.\n",
        "  for i in range(-1, 2):\n",
        "    for j in range(-1, 2):\n",
        "      # Exclude the current cells themselves\n",
        "      if i != 0 or j != 0:\n",
        "        # nx is an one-dimension DataSlice containing row indices + i\n",
        "        # ny is a two-dimension DataSlice containing cell indices + j\n",
        "        nx, ny = row.x + i, cell.y + j\n",
        "        # ncell is a two-dimension DataSlice containing cell ItemIds at (curr_x + i, curr_y + j)\n",
        "        # Note that we need to exclude out of bound nx \u003c 0 and ny \u003c 0.\n",
        "        # We don't need nx \u003c M and ny \u003c N because when list explision operator [] returns None for out of bound indices\n",
        "        # However, list explision operator [] works with negative indices (e.g. -1, -2) and we need to exclude nx/ny \u003c 0\n",
        "        ncell = state.rows[nx \u0026 (nx \u003e= 0)].cells[ny \u0026 (ny \u003e= 0)]\n",
        "        # Add neighbors.\n",
        "        cell.neighbors.append(ncell)\n",
        "\n",
        "  # In the end, cell.neighbors[:] is a three-dimension DataSlice containing ItemIds for all cells' neighbor cells\n",
        "\n",
        "def NextState(cells, neighbors):\n",
        "  \"Finds out alive cells for the next iteration and update the state.\"\n",
        "  # Count how many neighbors are alive\n",
        "  # Note that alive has MASK type. agg_count returns the number of items with kd.present\n",
        "  neighbor_count = kd.agg_count(neighbors.alive)\n",
        "  # Update alive\n",
        "  cells.alive = (neighbor_count == 3) | ((neighbor_count == 2) \u0026 cells.alive)\n",
        "\n",
        "def PrintState(state):\n",
        "  \"Prints out the current state as grid.\"\n",
        "  # Set '$' or '.' depending on the 'alive' value and join them together\n",
        "  alive_tokens = kd.cond(state.rows[:].cells[:].alive, '$', '.')\n",
        "  print(kd.strings.agg_join(kd.strings.agg_join(alive_tokens), '\\n').to_py())\n",
        "\n",
        "def PrintStateLoop(state, n, wait):\n",
        "  \"\"\"Prints out the state for each iteration.\n",
        "\n",
        "  Args:\n",
        "    state: initial state\n",
        "    n: number of iterations\n",
        "    wait: time to wait between iterations\n",
        "  \"\"\"\n",
        "  AddNeighbors(state)\n",
        "  cells = state.rows[:].cells[:].flatten()\n",
        "  # Create the neighbor dataslice only once\n",
        "  neighbors = cells.neighbors[:]\n",
        "\n",
        "  for i in range(n):\n",
        "    clear_output(wait=True)\n",
        "    NextState(cells, neighbors)\n",
        "    PrintState(state)\n",
        "    time.sleep(wait)\n",
        "\n",
        "state = CreateState(20, 20, [(6, 1), (6, 2), (6, 3), (8, 2), (5, 3)])\n",
        "PrintStateLoop(state, 50, 0.1)"
      ]
    },
    {
      "cell_type": "markdown",
      "metadata": {
        "id": "qHuel_qyAcs-"
      },
      "source": [
        "This native version runs at a speed similar to native Python. However, as we increase the size from 20x20 grid to 100x100 grid, the Koda version can be 10x faster than native Python as it can benefit more from the vectorizied computation."
      ]
    }
  ],
  "metadata": {
    "colab": {
      "last_runtime": {
        "build_target": "",
        "kind": "local"
      },
      "name": "Koda Tutorial #1: DataItem as an Alternative to Python.ipynb",
      "provenance": [
        {
          "file_id": "1a3hnAuCI_w-uYF-ddZIwVMfDxiPqEGG8",
          "timestamp": 1725288453304
        }
      ],
      "toc_visible": true
    },
    "kernelspec": {
      "display_name": "Python 3",
      "name": "python3"
    },
    "language_info": {
      "name": "python"
    }
  },
  "nbformat": 4,
  "nbformat_minor": 0
}
